{
 "cells": [
  {
   "cell_type": "code",
   "execution_count": 1,
   "id": "0eb1c9a0",
   "metadata": {},
   "outputs": [],
   "source": [
    "import cv2\n",
    "import glob\n",
    "import numpy as np\n",
    "import matplotlib.pyplot as plt\n",
    "import pandas as pd\n",
    "import os\n",
    "\n",
    "from sklearn.model_selection import train_test_split\n",
    "from sklearn.decomposition import PCA"
   ]
  },
  {
   "cell_type": "code",
   "execution_count": 6,
   "id": "fa594a11",
   "metadata": {},
   "outputs": [
    {
     "data": {
      "text/html": [
       "<div>\n",
       "<style scoped>\n",
       "    .dataframe tbody tr th:only-of-type {\n",
       "        vertical-align: middle;\n",
       "    }\n",
       "\n",
       "    .dataframe tbody tr th {\n",
       "        vertical-align: top;\n",
       "    }\n",
       "\n",
       "    .dataframe thead th {\n",
       "        text-align: right;\n",
       "    }\n",
       "</style>\n",
       "<table border=\"1\" class=\"dataframe\">\n",
       "  <thead>\n",
       "    <tr style=\"text-align: right;\">\n",
       "      <th></th>\n",
       "      <th>radiation</th>\n",
       "      <th>temperature</th>\n",
       "      <th>wind</th>\n",
       "      <th>ozone</th>\n",
       "    </tr>\n",
       "  </thead>\n",
       "  <tbody>\n",
       "    <tr>\n",
       "      <th>0</th>\n",
       "      <td>190</td>\n",
       "      <td>67</td>\n",
       "      <td>7.4</td>\n",
       "      <td>41</td>\n",
       "    </tr>\n",
       "    <tr>\n",
       "      <th>1</th>\n",
       "      <td>118</td>\n",
       "      <td>72</td>\n",
       "      <td>8.0</td>\n",
       "      <td>36</td>\n",
       "    </tr>\n",
       "    <tr>\n",
       "      <th>2</th>\n",
       "      <td>149</td>\n",
       "      <td>74</td>\n",
       "      <td>12.6</td>\n",
       "      <td>12</td>\n",
       "    </tr>\n",
       "    <tr>\n",
       "      <th>3</th>\n",
       "      <td>313</td>\n",
       "      <td>62</td>\n",
       "      <td>11.5</td>\n",
       "      <td>18</td>\n",
       "    </tr>\n",
       "    <tr>\n",
       "      <th>4</th>\n",
       "      <td>299</td>\n",
       "      <td>65</td>\n",
       "      <td>8.6</td>\n",
       "      <td>23</td>\n",
       "    </tr>\n",
       "    <tr>\n",
       "      <th>...</th>\n",
       "      <td>...</td>\n",
       "      <td>...</td>\n",
       "      <td>...</td>\n",
       "      <td>...</td>\n",
       "    </tr>\n",
       "    <tr>\n",
       "      <th>106</th>\n",
       "      <td>20</td>\n",
       "      <td>63</td>\n",
       "      <td>16.6</td>\n",
       "      <td>14</td>\n",
       "    </tr>\n",
       "    <tr>\n",
       "      <th>107</th>\n",
       "      <td>193</td>\n",
       "      <td>70</td>\n",
       "      <td>6.9</td>\n",
       "      <td>30</td>\n",
       "    </tr>\n",
       "    <tr>\n",
       "      <th>108</th>\n",
       "      <td>191</td>\n",
       "      <td>75</td>\n",
       "      <td>14.3</td>\n",
       "      <td>14</td>\n",
       "    </tr>\n",
       "    <tr>\n",
       "      <th>109</th>\n",
       "      <td>131</td>\n",
       "      <td>76</td>\n",
       "      <td>8.0</td>\n",
       "      <td>18</td>\n",
       "    </tr>\n",
       "    <tr>\n",
       "      <th>110</th>\n",
       "      <td>223</td>\n",
       "      <td>68</td>\n",
       "      <td>11.5</td>\n",
       "      <td>20</td>\n",
       "    </tr>\n",
       "  </tbody>\n",
       "</table>\n",
       "<p>111 rows × 4 columns</p>\n",
       "</div>"
      ],
      "text/plain": [
       "     radiation  temperature  wind  ozone\n",
       "0          190           67   7.4     41\n",
       "1          118           72   8.0     36\n",
       "2          149           74  12.6     12\n",
       "3          313           62  11.5     18\n",
       "4          299           65   8.6     23\n",
       "..         ...          ...   ...    ...\n",
       "106         20           63  16.6     14\n",
       "107        193           70   6.9     30\n",
       "108        191           75  14.3     14\n",
       "109        131           76   8.0     18\n",
       "110        223           68  11.5     20\n",
       "\n",
       "[111 rows x 4 columns]"
      ]
     },
     "execution_count": 6,
     "metadata": {},
     "output_type": "execute_result"
    }
   ],
   "source": [
    "df = pd.read_csv('ozon.csv')\n",
    "df"
   ]
  },
  {
   "cell_type": "code",
   "execution_count": 15,
   "id": "ecd39982",
   "metadata": {
    "scrolled": true
   },
   "outputs": [
    {
     "data": {
      "text/plain": [
       "array([[ 41],\n",
       "       [ 36],\n",
       "       [ 12],\n",
       "       [ 18],\n",
       "       [ 23],\n",
       "       [ 19],\n",
       "       [  8],\n",
       "       [ 16],\n",
       "       [ 11],\n",
       "       [ 14],\n",
       "       [ 18],\n",
       "       [ 14],\n",
       "       [ 34],\n",
       "       [  6],\n",
       "       [ 30],\n",
       "       [ 11],\n",
       "       [  1],\n",
       "       [ 11],\n",
       "       [  4],\n",
       "       [ 32],\n",
       "       [ 23],\n",
       "       [ 45],\n",
       "       [115],\n",
       "       [ 37],\n",
       "       [ 29],\n",
       "       [ 71],\n",
       "       [ 39],\n",
       "       [ 23],\n",
       "       [ 21],\n",
       "       [ 37],\n",
       "       [ 20],\n",
       "       [ 12],\n",
       "       [ 13],\n",
       "       [135],\n",
       "       [ 49],\n",
       "       [ 32],\n",
       "       [ 64],\n",
       "       [ 40],\n",
       "       [ 77],\n",
       "       [ 97],\n",
       "       [ 97],\n",
       "       [ 85],\n",
       "       [ 10],\n",
       "       [ 27],\n",
       "       [  7],\n",
       "       [ 48],\n",
       "       [ 35],\n",
       "       [ 61],\n",
       "       [ 79],\n",
       "       [ 63],\n",
       "       [ 16],\n",
       "       [ 80],\n",
       "       [108],\n",
       "       [ 20],\n",
       "       [ 52],\n",
       "       [ 82],\n",
       "       [ 50],\n",
       "       [ 64],\n",
       "       [ 59],\n",
       "       [ 39],\n",
       "       [  9],\n",
       "       [ 16],\n",
       "       [122],\n",
       "       [ 89],\n",
       "       [110],\n",
       "       [ 44],\n",
       "       [ 28],\n",
       "       [ 65],\n",
       "       [ 22],\n",
       "       [ 59],\n",
       "       [ 23],\n",
       "       [ 31],\n",
       "       [ 44],\n",
       "       [ 21],\n",
       "       [  9],\n",
       "       [ 45],\n",
       "       [168],\n",
       "       [ 73],\n",
       "       [ 76],\n",
       "       [118],\n",
       "       [ 84],\n",
       "       [ 85],\n",
       "       [ 96],\n",
       "       [ 78],\n",
       "       [ 73],\n",
       "       [ 91],\n",
       "       [ 47],\n",
       "       [ 32],\n",
       "       [ 20],\n",
       "       [ 23],\n",
       "       [ 21],\n",
       "       [ 24],\n",
       "       [ 44],\n",
       "       [ 21],\n",
       "       [ 28],\n",
       "       [  9],\n",
       "       [ 13],\n",
       "       [ 46],\n",
       "       [ 18],\n",
       "       [ 13],\n",
       "       [ 24],\n",
       "       [ 16],\n",
       "       [ 13],\n",
       "       [ 23],\n",
       "       [ 36],\n",
       "       [  7],\n",
       "       [ 14],\n",
       "       [ 30],\n",
       "       [ 14],\n",
       "       [ 18],\n",
       "       [ 20]], dtype=int64)"
      ]
     },
     "execution_count": 15,
     "metadata": {},
     "output_type": "execute_result"
    }
   ],
   "source": [
    "# create array of labels\n",
    "Y = np.array(df['ozone'])\n",
    "Y = Y.reshape(len(Y) , 1)\n",
    "Y"
   ]
  },
  {
   "cell_type": "code",
   "execution_count": 19,
   "id": "cd6bdffe",
   "metadata": {},
   "outputs": [
    {
     "data": {
      "text/plain": [
       "array([[  1. , 190. ,  67. ,   7.4],\n",
       "       [  1. , 118. ,  72. ,   8. ],\n",
       "       [  1. , 149. ,  74. ,  12.6],\n",
       "       [  1. , 313. ,  62. ,  11.5],\n",
       "       [  1. , 299. ,  65. ,   8.6],\n",
       "       [  1. ,  99. ,  59. ,  13.8],\n",
       "       [  1. ,  19. ,  61. ,  20.1],\n",
       "       [  1. , 256. ,  69. ,   9.7],\n",
       "       [  1. , 290. ,  66. ,   9.2],\n",
       "       [  1. , 274. ,  68. ,  10.9],\n",
       "       [  1. ,  65. ,  58. ,  13.2],\n",
       "       [  1. , 334. ,  64. ,  11.5],\n",
       "       [  1. , 307. ,  66. ,  12. ],\n",
       "       [  1. ,  78. ,  57. ,  18.4],\n",
       "       [  1. , 322. ,  68. ,  11.5],\n",
       "       [  1. ,  44. ,  62. ,   9.7],\n",
       "       [  1. ,   8. ,  59. ,   9.7],\n",
       "       [  1. , 320. ,  73. ,  16.6],\n",
       "       [  1. ,  25. ,  61. ,   9.7],\n",
       "       [  1. ,  92. ,  61. ,  12. ],\n",
       "       [  1. ,  13. ,  67. ,  12. ],\n",
       "       [  1. , 252. ,  81. ,  14.9],\n",
       "       [  1. , 223. ,  79. ,   5.7],\n",
       "       [  1. , 279. ,  76. ,   7.4],\n",
       "       [  1. , 127. ,  82. ,   9.7],\n",
       "       [  1. , 291. ,  90. ,  13.8],\n",
       "       [  1. , 323. ,  87. ,  11.5],\n",
       "       [  1. , 148. ,  82. ,   8. ],\n",
       "       [  1. , 191. ,  77. ,  14.9],\n",
       "       [  1. , 284. ,  72. ,  20.7],\n",
       "       [  1. ,  37. ,  65. ,   9.2],\n",
       "       [  1. , 120. ,  73. ,  11.5],\n",
       "       [  1. , 137. ,  76. ,  10.3],\n",
       "       [  1. , 269. ,  84. ,   4. ],\n",
       "       [  1. , 248. ,  85. ,   9.2],\n",
       "       [  1. , 236. ,  81. ,   9.2],\n",
       "       [  1. , 175. ,  83. ,   4.6],\n",
       "       [  1. , 314. ,  83. ,  10.9],\n",
       "       [  1. , 276. ,  88. ,   5.1],\n",
       "       [  1. , 267. ,  92. ,   6.3],\n",
       "       [  1. , 272. ,  92. ,   5.7],\n",
       "       [  1. , 175. ,  89. ,   7.4],\n",
       "       [  1. , 264. ,  73. ,  14.3],\n",
       "       [  1. , 175. ,  81. ,  14.9],\n",
       "       [  1. ,  48. ,  80. ,  14.3],\n",
       "       [  1. , 260. ,  81. ,   6.9],\n",
       "       [  1. , 274. ,  82. ,  10.3],\n",
       "       [  1. , 285. ,  84. ,   6.3],\n",
       "       [  1. , 187. ,  87. ,   5.1],\n",
       "       [  1. , 220. ,  85. ,  11.5],\n",
       "       [  1. ,   7. ,  74. ,   6.9],\n",
       "       [  1. , 294. ,  86. ,   8.6],\n",
       "       [  1. , 223. ,  85. ,   8. ],\n",
       "       [  1. ,  81. ,  82. ,   8.6],\n",
       "       [  1. ,  82. ,  86. ,  12. ],\n",
       "       [  1. , 213. ,  88. ,   7.4],\n",
       "       [  1. , 275. ,  86. ,   7.4],\n",
       "       [  1. , 253. ,  83. ,   7.4],\n",
       "       [  1. , 254. ,  81. ,   9.2],\n",
       "       [  1. ,  83. ,  81. ,   6.9],\n",
       "       [  1. ,  24. ,  81. ,  13.8],\n",
       "       [  1. ,  77. ,  82. ,   7.4],\n",
       "       [  1. , 255. ,  89. ,   4. ],\n",
       "       [  1. , 229. ,  90. ,  10.3],\n",
       "       [  1. , 207. ,  90. ,   8. ],\n",
       "       [  1. , 192. ,  86. ,  11.5],\n",
       "       [  1. , 273. ,  82. ,  11.5],\n",
       "       [  1. , 157. ,  80. ,   9.7],\n",
       "       [  1. ,  71. ,  77. ,  10.3],\n",
       "       [  1. ,  51. ,  79. ,   6.3],\n",
       "       [  1. , 115. ,  76. ,   7.4],\n",
       "       [  1. , 244. ,  78. ,  10.9],\n",
       "       [  1. , 190. ,  78. ,  10.3],\n",
       "       [  1. , 259. ,  77. ,  15.5],\n",
       "       [  1. ,  36. ,  72. ,  14.3],\n",
       "       [  1. , 212. ,  79. ,   9.7],\n",
       "       [  1. , 238. ,  81. ,   3.4],\n",
       "       [  1. , 215. ,  86. ,   8. ],\n",
       "       [  1. , 203. ,  97. ,   9.7],\n",
       "       [  1. , 225. ,  94. ,   2.3],\n",
       "       [  1. , 237. ,  96. ,   6.3],\n",
       "       [  1. , 188. ,  94. ,   6.3],\n",
       "       [  1. , 167. ,  91. ,   6.9],\n",
       "       [  1. , 197. ,  92. ,   5.1],\n",
       "       [  1. , 183. ,  93. ,   2.8],\n",
       "       [  1. , 189. ,  93. ,   4.6],\n",
       "       [  1. ,  95. ,  87. ,   7.4],\n",
       "       [  1. ,  92. ,  84. ,  15.5],\n",
       "       [  1. , 252. ,  80. ,  10.9],\n",
       "       [  1. , 220. ,  78. ,  10.3],\n",
       "       [  1. , 230. ,  75. ,  10.9],\n",
       "       [  1. , 259. ,  73. ,   9.7],\n",
       "       [  1. , 236. ,  81. ,  14.9],\n",
       "       [  1. , 259. ,  76. ,  15.5],\n",
       "       [  1. , 238. ,  77. ,   6.3],\n",
       "       [  1. ,  24. ,  71. ,  10.9],\n",
       "       [  1. , 112. ,  71. ,  11.5],\n",
       "       [  1. , 237. ,  78. ,   6.9],\n",
       "       [  1. , 224. ,  67. ,  13.8],\n",
       "       [  1. ,  27. ,  76. ,  10.3],\n",
       "       [  1. , 238. ,  68. ,  10.3],\n",
       "       [  1. , 201. ,  82. ,   8. ],\n",
       "       [  1. , 238. ,  64. ,  12.6],\n",
       "       [  1. ,  14. ,  71. ,   9.2],\n",
       "       [  1. , 139. ,  81. ,  10.3],\n",
       "       [  1. ,  49. ,  69. ,  10.3],\n",
       "       [  1. ,  20. ,  63. ,  16.6],\n",
       "       [  1. , 193. ,  70. ,   6.9],\n",
       "       [  1. , 191. ,  75. ,  14.3],\n",
       "       [  1. , 131. ,  76. ,   8. ],\n",
       "       [  1. , 223. ,  68. ,  11.5]])"
      ]
     },
     "execution_count": 19,
     "metadata": {},
     "output_type": "execute_result"
    }
   ],
   "source": [
    "# create X matrix\n",
    "df_X = df.drop(['ozone'] , axis=1)\n",
    "X = np.array(df_X).reshape(111 , 3)\n",
    "\n",
    "# Create a column of ones\n",
    "ones_column = np.ones((111, 1))\n",
    "\n",
    "# Stack the column of ones to the original matrix\n",
    "X = np.hstack((ones_column,X))\n",
    "X"
   ]
  },
  {
   "cell_type": "code",
   "execution_count": 22,
   "id": "ba0ea5bb",
   "metadata": {},
   "outputs": [
    {
     "name": "stdout",
     "output_type": "stream",
     "text": [
      "Training set shape: (88, 4)\n",
      "Test set shape: (23, 4)\n"
     ]
    }
   ],
   "source": [
    "# Split the data into training and testing sets\n",
    "X_train, X_test, y_train, y_test = train_test_split(X, Y, test_size=0.2, random_state=40)\n",
    "print('Training set shape:' , X_train.shape)\n",
    "print('Test set shape:' , X_test.shape)"
   ]
  },
  {
   "cell_type": "code",
   "execution_count": 23,
   "id": "59dc92a9",
   "metadata": {},
   "outputs": [
    {
     "data": {
      "text/plain": [
       "array([[-46.34742067],\n",
       "       [  0.07194909],\n",
       "       [  1.38880365],\n",
       "       [ -3.35778647]])"
      ]
     },
     "execution_count": 23,
     "metadata": {},
     "output_type": "execute_result"
    }
   ],
   "source": [
    "# Apply linear Regression\n",
    "beta_vetor = np.matmul(np.matmul(np.linalg.inv(np.matmul(X_train.T, X_train)) , X_train.T) , y_train)\n",
    "beta_vetor"
   ]
  },
  {
   "cell_type": "code",
   "execution_count": 72,
   "id": "f7d0db3e",
   "metadata": {},
   "outputs": [
    {
     "name": "stdout",
     "output_type": "stream",
     "text": [
      "Training Error: 454.6124968811164\n",
      "Test Error: 374.38879661459436\n"
     ]
    }
   ],
   "source": [
    "# training Error\n",
    "y_train_preds = np.matmul(X_train , beta_vetor)\n",
    "train_error = (np.linalg.norm(y_train_preds - y_train)**2)/len(y_train)\n",
    "print('Training Error:' , train_error)\n",
    "\n",
    "# test Error\n",
    "y_test_preds = np.matmul(X_test , beta_vetor)\n",
    "test_error = (np.linalg.norm(y_test_preds - y_test)**2)/len(y_test)\n",
    "print('Test Error:' , test_error)"
   ]
  },
  {
   "cell_type": "markdown",
   "id": "9b93fc96",
   "metadata": {},
   "source": [
    "### Add Gaussian noise"
   ]
  },
  {
   "cell_type": "code",
   "execution_count": 49,
   "id": "7e5fb521",
   "metadata": {},
   "outputs": [],
   "source": [
    "def regression_noisy(std_value):    \n",
    "    # Generate Gaussian noise \n",
    "    noise = np.random.normal(0, std_value, Y.shape)\n",
    "    # Add the generated noise to the vector\n",
    "    noisy_labels = Y + noise\n",
    "    # Split the data into training and testing sets\n",
    "    X_train, X_test, y_train_noisy, y_test_noisy = train_test_split(X, noisy_labels, test_size=0.2, random_state=40)\n",
    "    # Apply linear Regression\n",
    "    beta_vetor = np.matmul(np.matmul(np.linalg.inv(np.matmul(X_train.T, X_train)) , X_train.T) , y_train_noisy)\n",
    "#     print('Gaussian Noise Standard Deviation:' , std_value)\n",
    "    # training Error\n",
    "    y_train_preds = np.matmul(X_train , beta_vetor)\n",
    "    train_error = (np.linalg.norm(y_train_preds - y_train)**2)/len(y_train)\n",
    "#     print('Training Error:' , train_error)\n",
    "    # test Error\n",
    "    y_test_preds = np.matmul(X_test , beta_vetor)\n",
    "    test_error = (np.linalg.norm(y_test_preds - y_test)**2)/len(y_test)\n",
    "#     print('Test Error:' , test_error)\n",
    "#     print('-----------------------------------------')\n",
    "    return train_error , test_error"
   ]
  },
  {
   "cell_type": "code",
   "execution_count": 50,
   "id": "ddbcf144",
   "metadata": {},
   "outputs": [],
   "source": [
    "# Calculate train test/test errors and plot\n",
    "std_values = np.arange(51)\n",
    "list_of_test_errors = []\n",
    "list_of_train_errors = []\n",
    "for std in std_values:\n",
    "    train_error , test_error= regression_noisy(std)\n",
    "    list_of_train_errors.append(train_error)\n",
    "    list_of_test_errors.append(test_error)"
   ]
  },
  {
   "cell_type": "code",
   "execution_count": 60,
   "id": "94013585",
   "metadata": {},
   "outputs": [
    {
     "data": {
      "image/png": "[encoded data removed]",
      "text/plain": [
       "<Figure size 640x480 with 1 Axes>"
      ]
     },
     "metadata": {},
     "output_type": "display_data"
    }
   ],
   "source": [
    "# plot the errors\n",
    "plt.plot(std_values , list_of_train_errors , 'go-')\n",
    "plt.plot(std_values , list_of_test_errors , 'ro--')\n",
    "plt.xlabel('Gaussian Noise Standard Deviation')\n",
    "plt.ylabel('Error')\n",
    "plt.title('Training and Test Erros with Noisy Labels')\n",
    "plt.legend(['Train Error' , 'Test Error'])\n",
    "plt.grid()"
   ]
  },
  {
   "cell_type": "markdown",
   "id": "48095acb",
   "metadata": {},
   "source": [
    "همانطور که انتظار میرود با افزایش واریانس نویز،میزان خطای تست و آموزش افزایش میابد."
   ]
  },
  {
   "cell_type": "markdown",
   "id": "1a770e93",
   "metadata": {},
   "source": [
    "### Add square feature"
   ]
  },
  {
   "cell_type": "code",
   "execution_count": 67,
   "id": "52de700c",
   "metadata": {},
   "outputs": [
    {
     "data": {
      "text/plain": [
       "(111, 7)"
      ]
     },
     "execution_count": 67,
     "metadata": {},
     "output_type": "execute_result"
    }
   ],
   "source": [
    "# create array of labels\n",
    "Y = np.array(df['ozone'])\n",
    "Y = Y.reshape(len(Y) , 1)\n",
    "\n",
    "# create X matrix\n",
    "df_X = df.drop(['ozone'] , axis=1)\n",
    "X = np.array(df_X).reshape(111 , 3)\n",
    "squared = X**2\n",
    "\n",
    "# Stack the square values to the original matrix\n",
    "X = np.hstack((ones_column,X))\n",
    "X_squared = np.hstack((X , squared))\n",
    "X_squared.shape"
   ]
  },
  {
   "cell_type": "code",
   "execution_count": 70,
   "id": "e796c0df",
   "metadata": {},
   "outputs": [],
   "source": [
    "def regression_squared(X_squared , Y):    \n",
    "    # Split the data into training and testing sets\n",
    "    X_train, X_test, y_train, y_test = train_test_split(X_squared, Y, test_size=0.2, random_state=40)\n",
    "    # Apply linear Regression\n",
    "    beta_vetor = np.matmul(np.matmul(np.linalg.inv(np.matmul(X_train.T, X_train)) , X_train.T) , y_train)\n",
    "    # training Error\n",
    "    y_train_preds = np.matmul(X_train , beta_vetor)\n",
    "    train_error = (np.linalg.norm(y_train_preds - y_train)**2)/len(y_train)\n",
    "    print('Training Error:' , train_error)\n",
    "    # test Error\n",
    "    y_test_preds = np.matmul(X_test , beta_vetor)\n",
    "    test_error = (np.linalg.norm(y_test_preds - y_test)**2)/len(y_test)\n",
    "    print('Test Error:' , test_error)\n",
    "#     return train_error , test_error"
   ]
  },
  {
   "cell_type": "code",
   "execution_count": 71,
   "id": "7f759123",
   "metadata": {},
   "outputs": [
    {
     "name": "stdout",
     "output_type": "stream",
     "text": [
      "Training Error: 310.66719629056024\n",
      "Test Error: 339.91491202876955\n"
     ]
    }
   ],
   "source": [
    "regression_squared(X_squared , Y)"
   ]
  },
  {
   "cell_type": "markdown",
   "id": "e81f9faf",
   "metadata": {},
   "source": [
    "با توجه به اضافه شدن فیچرهای درجه دوم همانطور که انتظار میرفت میزان خطا کاهش یافته است."
   ]
  },
  {
   "cell_type": "markdown",
   "id": "a9976922",
   "metadata": {},
   "source": [
    "# Part 2"
   ]
  },
  {
   "cell_type": "code",
   "execution_count": 2,
   "id": "de86114e",
   "metadata": {},
   "outputs": [],
   "source": [
    "# load all the images and convert to Grayscale\n",
    "dir_list = os.listdir('surprise videos-20231031T224044Z-001/surprise videos')\n",
    "images = []\n",
    "number = []\n",
    "for folder in dir_list:\n",
    "    temp = []\n",
    "    for file in glob.glob(f'D:/Uni-02-03(1)/CVML LAB/Labs/LAB2/surprise videos-20231031T224044Z-001/surprise videos/{folder}/*.png'):\n",
    "        images.append(cv2.cvtColor(cv2.imread(file),cv2.COLOR_BGR2GRAY))\n",
    "        temp.append(cv2.cvtColor(cv2.imread(file),cv2.COLOR_BGR2GRAY))\n",
    "    number.append(len(temp))"
   ]
  },
  {
   "cell_type": "code",
   "execution_count": 3,
   "id": "0a42a8cc",
   "metadata": {},
   "outputs": [],
   "source": [
    "labels = []\n",
    "for n in number:\n",
    "    labels.append(np.linspace(0,1,num=n))"
   ]
  },
  {
   "cell_type": "code",
   "execution_count": 4,
   "id": "2f1423c7",
   "metadata": {},
   "outputs": [],
   "source": [
    "from itertools import chain\n",
    "Y = list(chain.from_iterable(labels))"
   ]
  },
  {
   "cell_type": "code",
   "execution_count": 5,
   "id": "a477d76b",
   "metadata": {},
   "outputs": [
    {
     "name": "stdout",
     "output_type": "stream",
     "text": [
      "(633, 900, 1200)\n",
      "(633, 1080000)\n"
     ]
    }
   ],
   "source": [
    "#reshape images\n",
    "print(np.array(images).shape)\n",
    "data = np.array(images).reshape(633,900 * 1200)\n",
    "print(data.shape)"
   ]
  },
  {
   "cell_type": "code",
   "execution_count": 6,
   "id": "f9d49cac",
   "metadata": {},
   "outputs": [],
   "source": [
    "# split data\n",
    "X_train, X_test, y_train, y_test = train_test_split(data, Y, test_size=0.4, random_state=40)"
   ]
  },
  {
   "cell_type": "code",
   "execution_count": 11,
   "id": "3866846c",
   "metadata": {},
   "outputs": [],
   "source": [
    "# Apply linear Regression\n",
    "def regression(X_train , y_train ,X_test , y_test):\n",
    "    beta_vetor = np.matmul(np.matmul(np.linalg.inv(np.matmul(X_train.T, X_train)) , X_train.T) , y_train)\n",
    "    print('Model fitted!')\n",
    "    # training Error\n",
    "    y_train_preds = np.matmul(X_train , beta_vetor)\n",
    "    train_error = (np.linalg.norm(y_train_preds - y_train)**2)/len(y_train)\n",
    "    print('Training Error:' , train_error)\n",
    "\n",
    "    # test Error\n",
    "    y_test_preds = np.matmul(X_test , beta_vetor)\n",
    "    test_error = (np.linalg.norm(y_test_preds - y_test)**2)/len(y_test)\n",
    "    print('Test Error:' , test_error)\n",
    "    return y_train_preds , y_test_preds , train_error , test_error"
   ]
  },
  {
   "cell_type": "code",
   "execution_count": 59,
   "id": "582531c6",
   "metadata": {},
   "outputs": [
    {
     "ename": "MemoryError",
     "evalue": "Unable to allocate 1.06 TiB for an array with shape (1080000, 1080000) and data type uint8",
     "output_type": "error",
     "traceback": [
      "\u001b[1;31m---------------------------------------------------------------------------\u001b[0m",
      "\u001b[1;31mMemoryError\u001b[0m                               Traceback (most recent call last)",
      "Cell \u001b[1;32mIn[59], line 1\u001b[0m\n\u001b[1;32m----> 1\u001b[0m \u001b[43mregression\u001b[49m\u001b[43m(\u001b[49m\u001b[43mX_train\u001b[49m\u001b[43m \u001b[49m\u001b[43m,\u001b[49m\u001b[43m \u001b[49m\u001b[43my_train\u001b[49m\u001b[43m \u001b[49m\u001b[43m,\u001b[49m\u001b[43mX_test\u001b[49m\u001b[43m \u001b[49m\u001b[43m,\u001b[49m\u001b[43m \u001b[49m\u001b[43my_test\u001b[49m\u001b[43m)\u001b[49m\n",
      "Cell \u001b[1;32mIn[58], line 3\u001b[0m, in \u001b[0;36mregression\u001b[1;34m(X_train, y_train, X_test, y_test)\u001b[0m\n\u001b[0;32m      2\u001b[0m \u001b[38;5;28;01mdef\u001b[39;00m \u001b[38;5;21mregression\u001b[39m(X_train , y_train ,X_test , y_test):\n\u001b[1;32m----> 3\u001b[0m     beta_vetor \u001b[38;5;241m=\u001b[39m np\u001b[38;5;241m.\u001b[39mmatmul(np\u001b[38;5;241m.\u001b[39mmatmul(np\u001b[38;5;241m.\u001b[39mlinalg\u001b[38;5;241m.\u001b[39minv(\u001b[43mnp\u001b[49m\u001b[38;5;241;43m.\u001b[39;49m\u001b[43mmatmul\u001b[49m\u001b[43m(\u001b[49m\u001b[43mX_train\u001b[49m\u001b[38;5;241;43m.\u001b[39;49m\u001b[43mT\u001b[49m\u001b[43m,\u001b[49m\u001b[43m \u001b[49m\u001b[43mX_train\u001b[49m\u001b[43m)\u001b[49m) , X_train\u001b[38;5;241m.\u001b[39mT) , y_train)\n\u001b[0;32m      4\u001b[0m     \u001b[38;5;28mprint\u001b[39m(\u001b[38;5;124m'\u001b[39m\u001b[38;5;124mModel fitted!\u001b[39m\u001b[38;5;124m'\u001b[39m)\n\u001b[0;32m      5\u001b[0m     \u001b[38;5;66;03m# training Error\u001b[39;00m\n",
      "\u001b[1;31mMemoryError\u001b[0m: Unable to allocate 1.06 TiB for an array with shape (1080000, 1080000) and data type uint8"
     ]
    }
   ],
   "source": [
    "y_train_preds , y_test_preds = regression(X_train , y_train ,X_test , y_test)"
   ]
  },
  {
   "cell_type": "markdown",
   "id": "94f54594",
   "metadata": {},
   "source": [
    "با توجه به تعداد بسیار زیاد فیچرها نمیتوان مدل را آموزش داد."
   ]
  },
  {
   "cell_type": "markdown",
   "id": "b1f6dd9e",
   "metadata": {},
   "source": [
    "### croped images"
   ]
  },
  {
   "cell_type": "code",
   "execution_count": 8,
   "id": "c9faaf17",
   "metadata": {},
   "outputs": [],
   "source": [
    "croped_images_list = []\n",
    "for i in range(633):\n",
    "    croped_images_list.append(images[i][150:750,300:900])"
   ]
  },
  {
   "cell_type": "code",
   "execution_count": 9,
   "id": "ccddf46d",
   "metadata": {},
   "outputs": [
    {
     "name": "stdout",
     "output_type": "stream",
     "text": [
      "(633, 600, 600)\n",
      "(633, 360000)\n"
     ]
    }
   ],
   "source": [
    "#reshape images\n",
    "print(np.array(croped_images_list).shape)\n",
    "data_croped = np.array(croped_images_list).reshape(633,600 * 600).astype('float64')\n",
    "print(data_croped.shape)"
   ]
  },
  {
   "cell_type": "code",
   "execution_count": 89,
   "id": "a6024465",
   "metadata": {},
   "outputs": [
    {
     "ename": "MemoryError",
     "evalue": "Unable to allocate 966. GiB for an array with shape (360000, 360000) and data type float64",
     "output_type": "error",
     "traceback": [
      "\u001b[1;31m---------------------------------------------------------------------------\u001b[0m",
      "\u001b[1;31mMemoryError\u001b[0m                               Traceback (most recent call last)",
      "Cell \u001b[1;32mIn[89], line 4\u001b[0m\n\u001b[0;32m      2\u001b[0m X_train, X_test, y_train, y_test \u001b[38;5;241m=\u001b[39m train_test_split(data_croped, Y, test_size\u001b[38;5;241m=\u001b[39m\u001b[38;5;241m0.4\u001b[39m, random_state\u001b[38;5;241m=\u001b[39m\u001b[38;5;241m40\u001b[39m)\n\u001b[0;32m      3\u001b[0m \u001b[38;5;66;03m# train and predict\u001b[39;00m\n\u001b[1;32m----> 4\u001b[0m y_train_preds , y_test_preds \u001b[38;5;241m=\u001b[39m \u001b[43mregression\u001b[49m\u001b[43m(\u001b[49m\u001b[43mX_train\u001b[49m\u001b[43m \u001b[49m\u001b[43m,\u001b[49m\u001b[43m \u001b[49m\u001b[43my_train\u001b[49m\u001b[43m \u001b[49m\u001b[43m,\u001b[49m\u001b[43mX_test\u001b[49m\u001b[43m \u001b[49m\u001b[43m,\u001b[49m\u001b[43m \u001b[49m\u001b[43my_test\u001b[49m\u001b[43m)\u001b[49m\n",
      "Cell \u001b[1;32mIn[60], line 3\u001b[0m, in \u001b[0;36mregression\u001b[1;34m(X_train, y_train, X_test, y_test)\u001b[0m\n\u001b[0;32m      2\u001b[0m \u001b[38;5;28;01mdef\u001b[39;00m \u001b[38;5;21mregression\u001b[39m(X_train , y_train ,X_test , y_test):\n\u001b[1;32m----> 3\u001b[0m     beta_vetor \u001b[38;5;241m=\u001b[39m np\u001b[38;5;241m.\u001b[39mmatmul(np\u001b[38;5;241m.\u001b[39mmatmul(np\u001b[38;5;241m.\u001b[39mlinalg\u001b[38;5;241m.\u001b[39minv(\u001b[43mnp\u001b[49m\u001b[38;5;241;43m.\u001b[39;49m\u001b[43mmatmul\u001b[49m\u001b[43m(\u001b[49m\u001b[43mX_train\u001b[49m\u001b[38;5;241;43m.\u001b[39;49m\u001b[43mT\u001b[49m\u001b[43m,\u001b[49m\u001b[43m \u001b[49m\u001b[43mX_train\u001b[49m\u001b[43m)\u001b[49m) , X_train\u001b[38;5;241m.\u001b[39mT) , y_train)\n\u001b[0;32m      4\u001b[0m     \u001b[38;5;28mprint\u001b[39m(\u001b[38;5;124m'\u001b[39m\u001b[38;5;124mModel fitted!\u001b[39m\u001b[38;5;124m'\u001b[39m)\n\u001b[0;32m      5\u001b[0m     \u001b[38;5;66;03m# training Error\u001b[39;00m\n",
      "\u001b[1;31mMemoryError\u001b[0m: Unable to allocate 966. GiB for an array with shape (360000, 360000) and data type float64"
     ]
    }
   ],
   "source": [
    "# split data\n",
    "X_train, X_test, y_train, y_test = train_test_split(data_croped, Y, test_size=0.4, random_state=40)\n",
    "# train and predict\n",
    "y_train_preds , y_test_preds = regression(X_train , y_train ,X_test , y_test)"
   ]
  },
  {
   "cell_type": "markdown",
   "id": "fd2c1f4e",
   "metadata": {},
   "source": [
    "ایعاد تصاویر را کاهش دادیم و حاشیه تصاویر را حذف کردیم اما باز هم با توجه به تعداد بسیار زیاد فیچرها نمیتوان مدل را آموزش داد."
   ]
  },
  {
   "cell_type": "markdown",
   "id": "dbf40ff2",
   "metadata": {},
   "source": [
    "### Resize"
   ]
  },
  {
   "cell_type": "code",
   "execution_count": 35,
   "id": "d79ece46",
   "metadata": {},
   "outputs": [
    {
     "name": "stdout",
     "output_type": "stream",
     "text": [
      "(633, 120, 120)\n",
      "(633, 14400)\n"
     ]
    }
   ],
   "source": [
    "resized_images_list = []\n",
    "for i in range(633):\n",
    "    resized = cv2.resize(croped_images_list[i],(120,120), interpolation = cv2.INTER_AREA)\n",
    "    resized_images_list.append(resized)\n",
    "    \n",
    "#reshape images\n",
    "print(np.array(resized_images_list).shape)\n",
    "data_resized = np.array(resized_images_list).reshape(633,120 * 120).astype('float64')\n",
    "print(data_resized.shape)"
   ]
  },
  {
   "cell_type": "code",
   "execution_count": 36,
   "id": "45087167",
   "metadata": {},
   "outputs": [
    {
     "name": "stdout",
     "output_type": "stream",
     "text": [
      "Model fitted!\n",
      "Training Error: 1073495.0658974922\n",
      "Test Error: 21237844.288943153\n"
     ]
    }
   ],
   "source": [
    "# split data\n",
    "X_train, X_test, y_train, y_test = train_test_split(data_resized, Y, test_size=0.4, random_state=40)\n",
    "# train and predict\n",
    "y_train_preds, y_test_preds, train_error, test_error= regression(X_train , y_train ,X_test , y_test)"
   ]
  },
  {
   "cell_type": "markdown",
   "id": "99a5b124",
   "metadata": {},
   "source": [
    "خطا به شدت بالا میباشد چرا که با کاهش رزولوشن تصاویر بخش زیادی از اطلاعات از بین رفته و مدل دیتای مناسبی را برای یادگیری پارامترها در اختیار ندارد.\n",
    "با توجه به اختلاف بسیار زیاد خطای تست و آموزش مدل در فاز آندرفیتیگ قرار دارد."
   ]
  },
  {
   "cell_type": "markdown",
   "id": "9dcf4e75",
   "metadata": {},
   "source": [
    "### PCA"
   ]
  },
  {
   "cell_type": "code",
   "execution_count": 12,
   "id": "4330e7df",
   "metadata": {},
   "outputs": [
    {
     "name": "stdout",
     "output_type": "stream",
     "text": [
      "Model fitted!\n",
      "Training Error: 0.3063896506055769\n",
      "Test Error: 0.3076245770258838\n"
     ]
    }
   ],
   "source": [
    "# split data\n",
    "X_train, X_test, y_train, y_test = train_test_split(data_resized, Y, test_size=0.4, random_state=40)\n",
    "\n",
    "# fit PCA\n",
    "X = X_train\n",
    "pca = PCA(n_components=20)\n",
    "X_train_reduced = pca.fit_transform(X)\n",
    "# reconstructed = pca.inverse_transform(X_new)\n",
    "\n",
    "X_test_reduced = pca.transform(X_test)\n",
    "# reconstructed = pca.inverse_transform(new_test)\n",
    "\n",
    "# train and predict\n",
    "y_train_preds , y_test_preds , train_error , test_error = regression(X_train_reduced , y_train ,X_test_reduced , y_test)"
   ]
  },
  {
   "cell_type": "code",
   "execution_count": 18,
   "id": "5643fb12",
   "metadata": {
    "scrolled": true
   },
   "outputs": [
    {
     "name": "stdout",
     "output_type": "stream",
     "text": [
      "Model fitted!\n",
      "Training Error: 0.35055255978145133\n",
      "Test Error: 0.3302757669382196\n",
      "Model fitted!\n",
      "Training Error: 0.35039636023084003\n",
      "Test Error: 0.32968077062321094\n",
      "Model fitted!\n",
      "Training Error: 0.3460014426063865\n",
      "Test Error: 0.3253448296624285\n",
      "Model fitted!\n",
      "Training Error: 0.3449636568053064\n",
      "Test Error: 0.3216197868300361\n",
      "Model fitted!\n",
      "Training Error: 0.34457122772325227\n",
      "Test Error: 0.3208388057523632\n",
      "Model fitted!\n",
      "Training Error: 0.3445297040142087\n",
      "Test Error: 0.32145506403590624\n",
      "Model fitted!\n",
      "Training Error: 0.3442601420394997\n",
      "Test Error: 0.3223227223235174\n",
      "Model fitted!\n",
      "Training Error: 0.33978570483000353\n",
      "Test Error: 0.3162980644475467\n",
      "Model fitted!\n",
      "Training Error: 0.3367036569164084\n",
      "Test Error: 0.3169440760145514\n",
      "Model fitted!\n",
      "Training Error: 0.336603180765029\n",
      "Test Error: 0.31879727517186607\n",
      "Model fitted!\n",
      "Training Error: 0.325766256248618\n",
      "Test Error: 0.3147605621001137\n",
      "Model fitted!\n",
      "Training Error: 0.3252776652909534\n",
      "Test Error: 0.31383234651070196\n",
      "Model fitted!\n",
      "Training Error: 0.31862609625203003\n",
      "Test Error: 0.3161393883227361\n",
      "Model fitted!\n",
      "Training Error: 0.3181716754873497\n",
      "Test Error: 0.3160840553843141\n",
      "Model fitted!\n",
      "Training Error: 0.3179060949704214\n",
      "Test Error: 0.3173909372720177\n",
      "Model fitted!\n",
      "Training Error: 0.3178424084751159\n",
      "Test Error: 0.31701051768141514\n",
      "Model fitted!\n",
      "Training Error: 0.30825602457858176\n",
      "Test Error: 0.3042678055096317\n",
      "Model fitted!\n",
      "Training Error: 0.308293708861887\n",
      "Test Error: 0.30539871513647243\n",
      "Model fitted!\n",
      "Training Error: 0.3066703150377605\n",
      "Test Error: 0.3092405568637122\n",
      "Model fitted!\n",
      "Training Error: 0.30640344404994174\n",
      "Test Error: 0.30757498555245666\n",
      "Model fitted!\n",
      "Training Error: 0.3063154490401472\n",
      "Test Error: 0.3070028678043318\n",
      "Model fitted!\n",
      "Training Error: 0.30611589103066844\n",
      "Test Error: 0.3081767207732808\n",
      "Model fitted!\n",
      "Training Error: 0.30594566285835795\n",
      "Test Error: 0.3089746182822749\n",
      "Model fitted!\n",
      "Training Error: 0.30299712262359974\n",
      "Test Error: 0.31092618076933987\n",
      "Model fitted!\n",
      "Training Error: 0.3017794452752974\n",
      "Test Error: 0.3124250122811515\n",
      "Model fitted!\n",
      "Training Error: 0.30099815052401246\n",
      "Test Error: 0.3074582329037028\n",
      "Model fitted!\n",
      "Training Error: 0.30085711897689343\n",
      "Test Error: 0.306576229059492\n",
      "Model fitted!\n",
      "Training Error: 0.3007505961032004\n",
      "Test Error: 0.3053665375292662\n",
      "Model fitted!\n",
      "Training Error: 0.3005972642975606\n",
      "Test Error: 0.30482424688758886\n",
      "Model fitted!\n",
      "Training Error: 0.30058584721686554\n",
      "Test Error: 0.3053369081174509\n",
      "Model fitted!\n",
      "Training Error: 0.29645155288284697\n",
      "Test Error: 0.3005226829506793\n",
      "Model fitted!\n",
      "Training Error: 0.2919722443093832\n",
      "Test Error: 0.29708081067391046\n",
      "Model fitted!\n",
      "Training Error: 0.29140682090495806\n",
      "Test Error: 0.29454937838606726\n",
      "Model fitted!\n",
      "Training Error: 0.2913581719581147\n",
      "Test Error: 0.29428049065996054\n",
      "Model fitted!\n",
      "Training Error: 0.29036749667030415\n",
      "Test Error: 0.2936420769391113\n",
      "Model fitted!\n",
      "Training Error: 0.28915126609230635\n",
      "Test Error: 0.2947102617708795\n",
      "Model fitted!\n",
      "Training Error: 0.2870432025407274\n",
      "Test Error: 0.2921020785210006\n",
      "Model fitted!\n",
      "Training Error: 0.28608496242826936\n",
      "Test Error: 0.2936169575790443\n",
      "Model fitted!\n",
      "Training Error: 0.28382975795789955\n",
      "Test Error: 0.2865963413510937\n",
      "Model fitted!\n",
      "Training Error: 0.28216521740522216\n",
      "Test Error: 0.28672413024508914\n",
      "Model fitted!\n",
      "Training Error: 0.2816627063037266\n",
      "Test Error: 0.28393205708123004\n",
      "Model fitted!\n",
      "Training Error: 0.2797525011594091\n",
      "Test Error: 0.2844732475423153\n",
      "Model fitted!\n",
      "Training Error: 0.2800434927107231\n",
      "Test Error: 0.2860605828837227\n",
      "Model fitted!\n",
      "Training Error: 0.2797245954692211\n",
      "Test Error: 0.28269961693035833\n",
      "Model fitted!\n",
      "Training Error: 0.27320711123205094\n",
      "Test Error: 0.2775391823061757\n",
      "Model fitted!\n",
      "Training Error: 0.2721394369582875\n",
      "Test Error: 0.2780972825361386\n",
      "Model fitted!\n",
      "Training Error: 0.27220436825065814\n",
      "Test Error: 0.27958990023315405\n",
      "Model fitted!\n",
      "Training Error: 0.27144754382257846\n",
      "Test Error: 0.2778629082907654\n",
      "Model fitted!\n",
      "Training Error: 0.2707908097960539\n",
      "Test Error: 0.2750415188911108\n",
      "Model fitted!\n",
      "Training Error: 0.27012712777759934\n",
      "Test Error: 0.27839365589284887\n",
      "Model fitted!\n",
      "Training Error: 0.2696089204275588\n",
      "Test Error: 0.2751795159554057\n",
      "Model fitted!\n",
      "Training Error: 0.2698932731174068\n",
      "Test Error: 0.2763936071952199\n",
      "Model fitted!\n",
      "Training Error: 0.2691170695789166\n",
      "Test Error: 0.2759274727166891\n",
      "Model fitted!\n",
      "Training Error: 0.26936610950998685\n",
      "Test Error: 0.27664606378987433\n",
      "Model fitted!\n",
      "Training Error: 0.26905346238014965\n",
      "Test Error: 0.2765028509904054\n",
      "Model fitted!\n",
      "Training Error: 0.2688835519219232\n",
      "Test Error: 0.2773405420260957\n",
      "Model fitted!\n",
      "Training Error: 0.2686487086360327\n",
      "Test Error: 0.2762631744039032\n",
      "Model fitted!\n",
      "Training Error: 0.26842250354047087\n",
      "Test Error: 0.27606896104888917\n",
      "Model fitted!\n",
      "Training Error: 0.2683620930333681\n",
      "Test Error: 0.2755568622150033\n",
      "Model fitted!\n",
      "Training Error: 0.26804232233945186\n",
      "Test Error: 0.2757906095184266\n",
      "Model fitted!\n",
      "Training Error: 0.267824682802219\n",
      "Test Error: 0.2739972152428065\n",
      "Model fitted!\n",
      "Training Error: 0.26765553256717467\n",
      "Test Error: 0.270750164068286\n",
      "Model fitted!\n",
      "Training Error: 0.26767433893763265\n",
      "Test Error: 0.27129647852685546\n",
      "Model fitted!\n",
      "Training Error: 0.26755132135155385\n",
      "Test Error: 0.2726664850886783\n",
      "Model fitted!\n",
      "Training Error: 0.26749498485892487\n",
      "Test Error: 0.2712717541996266\n",
      "Model fitted!\n",
      "Training Error: 0.26741188632180873\n",
      "Test Error: 0.27101486526144014\n",
      "Model fitted!\n",
      "Training Error: 0.26706468200445954\n",
      "Test Error: 0.27203560571910196\n",
      "Model fitted!\n",
      "Training Error: 0.2670338357589437\n",
      "Test Error: 0.27149200742504376\n",
      "Model fitted!\n",
      "Training Error: 0.2659691425057234\n",
      "Test Error: 0.26635573055335193\n",
      "Model fitted!\n",
      "Training Error: 0.2663489501075758\n",
      "Test Error: 0.26649160703928115\n",
      "Model fitted!\n",
      "Training Error: 0.2660762911181761\n",
      "Test Error: 0.26566496147435503\n",
      "Model fitted!\n",
      "Training Error: 0.26558873201272387\n",
      "Test Error: 0.26393556196377665\n",
      "Model fitted!\n",
      "Training Error: 0.26537808104358424\n",
      "Test Error: 0.26374837712057475\n",
      "Model fitted!\n",
      "Training Error: 0.26544501060053477\n",
      "Test Error: 0.26274245437811167\n",
      "Model fitted!\n",
      "Training Error: 0.2653882735959504\n",
      "Test Error: 0.2631132030125479\n",
      "Model fitted!\n",
      "Training Error: 0.26524739851661233\n",
      "Test Error: 0.26684878319788735\n",
      "Model fitted!\n",
      "Training Error: 0.26524595213616675\n",
      "Test Error: 0.2662843596677788\n",
      "Model fitted!\n",
      "Training Error: 0.2646618746121829\n",
      "Test Error: 0.266675764529852\n",
      "Model fitted!\n",
      "Training Error: 0.26468208832898654\n",
      "Test Error: 0.2656124122099044\n",
      "Model fitted!\n",
      "Training Error: 0.26415621482821167\n",
      "Test Error: 0.2667928828479366\n",
      "Model fitted!\n",
      "Training Error: 0.2640977047346946\n",
      "Test Error: 0.26750898292242736\n",
      "Model fitted!\n",
      "Training Error: 0.2641877110738722\n",
      "Test Error: 0.26801705595282893\n",
      "Model fitted!\n",
      "Training Error: 0.2639344551301007\n",
      "Test Error: 0.2674896068645866\n",
      "Model fitted!\n",
      "Training Error: 0.2636915184837086\n",
      "Test Error: 0.2694262787959232\n",
      "Model fitted!\n",
      "Training Error: 0.26354623335303756\n",
      "Test Error: 0.269398067439609\n",
      "Model fitted!\n",
      "Training Error: 0.26333986404175125\n",
      "Test Error: 0.2695000019630266\n",
      "Model fitted!\n",
      "Training Error: 0.26333114202240304\n",
      "Test Error: 0.2696152947558533\n",
      "Model fitted!\n",
      "Training Error: 0.26311493955477083\n",
      "Test Error: 0.26978817501968977\n",
      "Model fitted!\n",
      "Training Error: 0.26325088015511666\n",
      "Test Error: 0.26968698030591576\n",
      "Model fitted!\n",
      "Training Error: 0.2629405449584299\n",
      "Test Error: 0.2706076589567187\n",
      "Model fitted!\n",
      "Training Error: 0.2628200440359482\n",
      "Test Error: 0.27135930554561993\n",
      "Model fitted!\n",
      "Training Error: 0.2628843211700975\n",
      "Test Error: 0.2702410101622417\n",
      "Model fitted!\n",
      "Training Error: 0.262888573673852\n",
      "Test Error: 0.2709252548692386\n",
      "Model fitted!\n",
      "Training Error: 0.2629249558753195\n",
      "Test Error: 0.2702212606215595\n",
      "Model fitted!\n",
      "Training Error: 0.2628132440771045\n",
      "Test Error: 0.27006314987671454\n",
      "Model fitted!\n",
      "Training Error: 0.2628289087209809\n",
      "Test Error: 0.270602467064173\n",
      "Model fitted!\n",
      "Training Error: 0.26262669272351113\n",
      "Test Error: 0.2693098803537236\n",
      "Model fitted!\n",
      "Training Error: 0.2626029543465956\n",
      "Test Error: 0.2688482257617949\n",
      "Model fitted!\n",
      "Training Error: 0.26252771106156253\n",
      "Test Error: 0.2720957951097229\n",
      "Model fitted!\n",
      "Training Error: 0.2625443263950021\n",
      "Test Error: 0.27131273466130373\n"
     ]
    }
   ],
   "source": [
    "train_error_list = []\n",
    "test_error_list = []\n",
    "for n in range(1,101):\n",
    "    X = X_train\n",
    "    pca = PCA(n_components=n)\n",
    "    X_train_reduced = pca.fit_transform(X)\n",
    "    X_test_reduced = pca.transform(X_test)\n",
    "    # train and predict\n",
    "    y_train_preds , y_test_preds , train_error , test_error = regression(X_train_reduced , y_train ,X_test_reduced , y_test)\n",
    "    train_error_list.append(train_error)\n",
    "    test_error_list.append(test_error)"
   ]
  },
  {
   "cell_type": "code",
   "execution_count": 19,
   "id": "98ceeb7a",
   "metadata": {},
   "outputs": [
    {
     "data": {
      "image/png": "[encoded data removed]",
      "text/plain": [
       "<Figure size 640x480 with 1 Axes>"
      ]
     },
     "metadata": {},
     "output_type": "display_data"
    }
   ],
   "source": [
    "# plot the errors\n",
    "plt.plot(np.arange(1,101) , train_error_list , 'go-')\n",
    "plt.plot(np.arange(1,101), test_error_list , 'ro--')\n",
    "plt.xlabel('Number of Components')\n",
    "plt.ylabel('Error')\n",
    "plt.title('Training and Test Errors ')\n",
    "plt.legend(['Train Error' , 'Test Error'])\n",
    "plt.grid()"
   ]
  },
  {
   "cell_type": "markdown",
   "id": "6f6fcbae",
   "metadata": {},
   "source": [
    "نسبت به قسمت قبل میزان خطا به شدت کاهش یافته چرا که در قسمت قبل برای کاهش تعداد ویژگی ها که همان پیکسل های خام تصاویر بودند،رزولوشن تصاویر را کاهش دادیم که این امر باعث از بین اطلاعات میشود اما در این مرحله با کاهش ابعاد با استفاده از مولفه های اساسی بخش عمده اطلاعات حفظ شده و در نتیجه مدل میتواند بهتر یادبگیرد و در نهایت خطای بسیار کمتری را به دست میدهد.\n",
    "و مدل توانسته است پارامترها را به خوبی یادبگیرد."
   ]
  },
  {
   "cell_type": "markdown",
   "id": "b4e3a0c8",
   "metadata": {},
   "source": [
    ".بهترین خطای تست با حدود 75 ویژگی به دست میاید"
   ]
  }
 ],
 "metadata": {
  "kernelspec": {
   "display_name": "Python 3 (ipykernel)",
   "language": "python",
   "name": "python3"
  },
  "language_info": {
   "codemirror_mode": {
    "name": "ipython",
    "version": 3
   },
   "file_extension": ".py",
   "mimetype": "text/x-python",
   "name": "python",
   "nbconvert_exporter": "python",
   "pygments_lexer": "ipython3",
   "version": "3.10.10"
  }
 },
 "nbformat": 4,
 "nbformat_minor": 5
}
