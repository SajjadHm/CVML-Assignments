{
 "cells": [
  {
   "cell_type": "code",
   "execution_count": 28,
   "id": "d3ecf60d",
   "metadata": {},
   "outputs": [],
   "source": [
    "# import libraries\n",
    "import numpy as np\n",
    "import os\n",
    "from matplotlib.pyplot import imshow\n",
    "import matplotlib.pyplot as plt\n",
    "import cv2\n",
    "from sklearn.metrics import mean_squared_error\n",
    "from sklearn.metrics import accuracy_score\n",
    "from skimage import io,color\n",
    "from sklearn import svm\n",
    "from sklearn.model_selection import train_test_split\n",
    "from sklearn.decomposition import PCA\n",
    "from sklearn.metrics import confusion_matrix\n",
    "from sklearn.metrics import precision_score\n",
    "from sklearn.metrics import recall_score"
   ]
  },
  {
   "cell_type": "code",
   "execution_count": 3,
   "id": "a6d421fd",
   "metadata": {},
   "outputs": [
    {
     "name": "stdout",
     "output_type": "stream",
     "text": [
      "Shape of dataset:\n",
      "(190, 180000)\n",
      "(88, 180000)\n",
      "(85, 180000)\n",
      "(47, 180000)\n"
     ]
    }
   ],
   "source": [
    "# load images\n",
    "path = 'surprise'\n",
    "surprise = []\n",
    "for file in os.listdir(path):\n",
    "    img = io.imread(path + \"\\\\\"+ file, as_gray=True)\n",
    "    rows,cols = img.shape\n",
    "    img_size = rows * cols\n",
    "    img_1d = img.reshape(img_size)\n",
    "    surprise.append(img_1d)\n",
    "\n",
    "surprise = np.array(surprise)\n",
    "\n",
    "path = 'happy'\n",
    "happy = []\n",
    "for file in os.listdir(path):\n",
    "    img = io.imread(path + \"\\\\\"+ file, as_gray=True)\n",
    "    rows,cols = img.shape\n",
    "    img_size = rows * cols\n",
    "    img_1d = img.reshape(img_size)\n",
    "    happy.append(img_1d)\n",
    "happy = np.array(happy)\n",
    "\n",
    "path = 'disgust'\n",
    "disgust = []\n",
    "for file in os.listdir(path):\n",
    "    img = io.imread(path + \"\\\\\"+ file, as_gray=True)\n",
    "    rows,cols = img.shape\n",
    "    img_size = rows * cols\n",
    "    img_1d = img.reshape(img_size)\n",
    "    disgust.append(img_1d)\n",
    "disgust = np.array(disgust)\n",
    "\n",
    "    \n",
    "path = 'neutral'\n",
    "neutral = []\n",
    "for file in os.listdir(path):\n",
    "    img = io.imread(path + \"\\\\\"+ file, as_gray=True)\n",
    "    rows,cols = img.shape\n",
    "    img_size = rows * cols\n",
    "    img_1d = img.reshape(img_size)\n",
    "    neutral.append(img_1d)    \n",
    "neutral = np.array(neutral)\n",
    "print('Shape of dataset:')\n",
    "print(neutral.shape)\n",
    "print(surprise.shape)\n",
    "print(happy.shape)\n",
    "print(disgust.shape)"
   ]
  },
  {
   "cell_type": "code",
   "execution_count": 7,
   "id": "3db0f191",
   "metadata": {},
   "outputs": [],
   "source": [
    "# split data into train and test subset\n",
    "neutral_train, neutral_test = train_test_split(neutral, train_size =120, random_state=42)\n",
    "surprise_train, surprise_test = train_test_split(surprise, train_size =60, random_state=42)\n",
    "happy_train, happy_test = train_test_split(happy, train_size =60, random_state=42)\n",
    "disgust_train, disgust_test = train_test_split(disgust, train_size =30, random_state=42)"
   ]
  },
  {
   "cell_type": "code",
   "execution_count": 8,
   "id": "5d0677a2",
   "metadata": {},
   "outputs": [],
   "source": [
    "# create data arrays\n",
    "X_train = np.append(neutral_train, surprise_train, axis=0)\n",
    "X_train = np.append(X_train, happy_train, axis=0)\n",
    "X_train = np.append(X_train, disgust_train, axis=0)\n",
    "\n",
    "X_test = np.append(neutral_test, surprise_test, axis=0)\n",
    "X_test = np.append(X_test, happy_test, axis=0)\n",
    "X_test = np.append(X_test, disgust_test, axis=0)"
   ]
  },
  {
   "cell_type": "code",
   "execution_count": 10,
   "id": "e10704a3",
   "metadata": {},
   "outputs": [
    {
     "name": "stdout",
     "output_type": "stream",
     "text": [
      "Shape of x-train: (270, 180000)\n",
      "Shape of y-train: (270, 1)\n",
      "Shape of x-train: (140, 180000)\n",
      "Shape of y-test: (140, 1)\n"
     ]
    }
   ],
   "source": [
    "# create labels array\n",
    "y_train = np.append(np.zeros((120,1)), np.ones((60,1)), axis=0)\n",
    "y_train = np.append(y_train, 2 * np.ones((60,1)), axis=0)\n",
    "y_train = np.append(y_train, 3 * np.ones((30,1)), axis=0)\n",
    "\n",
    "y_test = np.append(\n",
    "    np.zeros((neutral_test.shape[0], 1)),\n",
    "    np.ones((surprise_test.shape[0], 1)),axis=0)\n",
    "y_test = np.append(\n",
    "    y_test, 2 * np.ones((happy_test.shape[0], 1)),axis=0)\n",
    "y_test = np.append(\n",
    "    y_test, 3 * np.ones((disgust_test.shape[0], 1)),axis=0)    \n",
    "    \n",
    "print('Shape of x-train:',X_train.shape)\n",
    "print('Shape of y-train:',y_train.shape)\n",
    "print('Shape of x-train:',X_test.shape)\n",
    "print('Shape of y-test:',y_test.shape)"
   ]
  },
  {
   "cell_type": "code",
   "execution_count": 14,
   "id": "8b7fcee7",
   "metadata": {},
   "outputs": [
    {
     "name": "stdout",
     "output_type": "stream",
     "text": [
      "Shape of Reduced Data:\n",
      "(270, 40)\n",
      "(140, 40)\n"
     ]
    }
   ],
   "source": [
    "# apply PCA\n",
    "pca = PCA(n_components=40)\n",
    "pca.fit(X_train)\n",
    "X_train_reduced = pca.transform(X_train)\n",
    "X_test_reduced = pca.transform(X_test)\n",
    "print('Shape of Reduced Data:')\n",
    "print(X_train_reduced.shape)\n",
    "print(X_test_reduced.shape)"
   ]
  },
  {
   "cell_type": "code",
   "execution_count": 17,
   "id": "f4199b6d",
   "metadata": {},
   "outputs": [
    {
     "name": "stdout",
     "output_type": "stream",
     "text": [
      "MSE_surprised: 0.10714285714285714\n",
      "acc_surprised: 0.8928571428571429\n"
     ]
    }
   ],
   "source": [
    "# surprise vs other\n",
    "clf_surprise = svm.SVC()\n",
    "loc  = np.where(y_train!=1)\n",
    "y = y_train.copy()\n",
    "y[loc] = 0*y[loc]\n",
    "\n",
    "loc = np.where(y_test!=1)\n",
    "y_test1 = y_test.copy()\n",
    "y_test1[loc] = 0*y_test1[loc]\n",
    "\n",
    "clf_surprise.fit(X_train_reduced, y.ravel())\n",
    "y_test_pred = clf_surprise.predict(X_test_reduced)\n",
    "\n",
    "mse_surprised=mean_squared_error(y_test_pred, y_test1)\n",
    "acc_surprised = accuracy_score(y_test_pred, y_test1)\n",
    "\n",
    "print('MSE_surprised:', mse_surprised)\n",
    "print('acc_surprised:', acc_surprised)"
   ]
  },
  {
   "cell_type": "code",
   "execution_count": 19,
   "id": "5809b36d",
   "metadata": {},
   "outputs": [
    {
     "name": "stdout",
     "output_type": "stream",
     "text": [
      "MSE_happy: 0.15714285714285714\n",
      "acc_happy: 0.8428571428571429\n"
     ]
    }
   ],
   "source": [
    "# happy vs other\n",
    "from sklearn import svm\n",
    "clf_happy = svm.SVC()\n",
    "loc  = np.where(y_train != 2)\n",
    "y = y_train.copy()\n",
    "y[loc ] = 0 *y[loc]\n",
    "\n",
    "loc  = np.where(y_test != 2)\n",
    "y_test1 = y_test.copy()\n",
    "y_test1[loc ] = 0 *y_test1[loc]\n",
    "\n",
    "clf_happy.fit(X_train_reduced, y.ravel())\n",
    "y_test_pred=clf_happy.predict(X_test_reduced)\n",
    "\n",
    "mse_happy = mean_squared_error(y_test_pred//2,y_test1//2)\n",
    "acc_happy = accuracy_score(y_test_pred, y_test1)\n",
    "print('MSE_happy:',mse_happy)\n",
    "print('acc_happy:',acc_happy)"
   ]
  },
  {
   "cell_type": "code",
   "execution_count": 23,
   "id": "58c3242d",
   "metadata": {},
   "outputs": [
    {
     "name": "stdout",
     "output_type": "stream",
     "text": [
      "MSE_disgust: 0.12142857142857143\n",
      "acc_disgust: 0.8785714285714286\n"
     ]
    }
   ],
   "source": [
    "# disgust vs other\n",
    "clf_disgust = svm.SVC()\n",
    "loc = np.where(y_train!=3)\n",
    "y = y_train.copy()\n",
    "y[loc ] = 0*y[loc]\n",
    "\n",
    "loc = np.where(y_test != 3)\n",
    "y_test1 = y_test.copy()\n",
    "y_test1[loc] = 0*y_test1[loc]\n",
    "\n",
    "clf_disgust.fit(X_train_reduced, y.ravel())\n",
    "y_test_pred=clf_disgust.predict(X_test_reduced)\n",
    "\n",
    "mse_disgust = mean_squared_error(y_test_pred//3, y_test1//3)\n",
    "acc_disgust = accuracy_score(y_test_pred, y_test1)\n",
    "print('MSE_disgust:', mse_disgust)\n",
    "print('acc_disgust:', acc_disgust)"
   ]
  },
  {
   "cell_type": "code",
   "execution_count": 25,
   "id": "d37d44bc",
   "metadata": {},
   "outputs": [
    {
     "name": "stdout",
     "output_type": "stream",
     "text": [
      "MSE: 1.85\n",
      "acc: 0.5857142857142857\n"
     ]
    }
   ],
   "source": [
    "clf = svm.SVC()\n",
    "\n",
    "clf.fit(X_train_reduced, y_train.ravel())\n",
    "y_test_pred=clf.predict(X_test_reduced)\n",
    "\n",
    "mse=mean_squared_error(y_test_pred,y_test)\n",
    "acc = accuracy_score(y_test_pred, y_test)\n",
    "\n",
    "print('MSE:', mse)\n",
    "print('acc:', acc)"
   ]
  },
  {
   "cell_type": "code",
   "execution_count": 27,
   "id": "b1a51422",
   "metadata": {},
   "outputs": [
    {
     "data": {
      "text/plain": [
       "array([[60,  0, 10,  0],\n",
       "       [14, 14,  0,  0],\n",
       "       [17,  0,  8,  0],\n",
       "       [15,  0,  2,  0]], dtype=int64)"
      ]
     },
     "execution_count": 27,
     "metadata": {},
     "output_type": "execute_result"
    }
   ],
   "source": [
    "# create confusion matrix\n",
    "confusion_matrix(y_test, y_test_pred)"
   ]
  },
  {
   "cell_type": "code",
   "execution_count": 32,
   "id": "79b77e72",
   "metadata": {},
   "outputs": [
    {
     "name": "stdout",
     "output_type": "stream",
     "text": [
      "Precision Score: 0.5544474393530997\n",
      "Recall Score: 0.5857142857142857\n"
     ]
    },
    {
     "name": "stderr",
     "output_type": "stream",
     "text": [
      "C:\\Users\\ASUS\\AppData\\Local\\Programs\\Python\\Python310\\lib\\site-packages\\sklearn\\metrics\\_classification.py:1469: UndefinedMetricWarning: Precision is ill-defined and being set to 0.0 in labels with no predicted samples. Use `zero_division` parameter to control this behavior.\n",
      "  _warn_prf(average, modifier, msg_start, len(result))\n"
     ]
    }
   ],
   "source": [
    "precision = precision_score(y_test, y_test_pred, average='weighted')\n",
    "print('Precision Score:', precision)\n",
    "recall = recall_score(y_test, y_test_pred, average='weighted')\n",
    "print('Recall Score:', recall)"
   ]
  },
  {
   "cell_type": "code",
   "execution_count": 33,
   "id": "721f444a",
   "metadata": {},
   "outputs": [
    {
     "name": "stdout",
     "output_type": "stream",
     "text": [
      "MSE= 1.462962962962963\n",
      "acc= 0.6444444444444446\n",
      "MSE= 1.462962962962963\n",
      "acc= 0.6444444444444446\n",
      "MSE= 1.462962962962963\n",
      "acc= 0.6444444444444446\n",
      "MSE= 1.462962962962963\n",
      "acc= 0.6444444444444446\n",
      "0.6444444444444446 0.0001\n"
     ]
    }
   ],
   "source": [
    "data = (np.append(X_train_reduced , y_train , axis = 1))\n",
    "max_acc = 0\n",
    "c_max = 0\n",
    "for c in [0.0001,0.001,0.01,0.1]: \n",
    "    mse=0\n",
    "    acc=0\n",
    "    for k in range(0,270,30):\n",
    "        data_test = data[k:k+30]\n",
    "        data_train = np.delete(data, np.arange(k,k+30) , axis=0)\n",
    "        X_train_reduced_C=data_train[:,0:40]\n",
    "        y_train_C=data_train[:,40]\n",
    "        X_test_reduced_C=data_test[:,0:40]\n",
    "        y_test_C=data_test[:,40]\n",
    "        clf_step2 = svm.SVC(C = c,kernel='linear')\n",
    "        clf_step2.fit(X_train_reduced_C, y_train_C)\n",
    "        y_test_pred_C=clf_step2.predict(X_test_reduced_C)\n",
    "        MSE=mean_squared_error(y_test_pred_C,y_test_C)\n",
    "        mse=mse+MSE\n",
    "        Acc = accuracy_score(y_test_pred_C, y_test_C)\n",
    "        acc= acc + Acc\n",
    "        \n",
    "    print('MSE=',mse/9)\n",
    "    print('acc=',acc/9)\n",
    "    if acc/9>max_acc:\n",
    "        c_max = c\n",
    "        max_acc = acc/9\n",
    "print(max_acc , c_max)"
   ]
  },
  {
   "cell_type": "code",
   "execution_count": 34,
   "id": "756cf936",
   "metadata": {},
   "outputs": [
    {
     "name": "stdout",
     "output_type": "stream",
     "text": [
      "MSE: 1.4785714285714286\n",
      "acc: 0.6928571428571428\n"
     ]
    },
    {
     "name": "stderr",
     "output_type": "stream",
     "text": [
      "C:\\Users\\ASUS\\AppData\\Local\\Programs\\Python\\Python310\\lib\\site-packages\\sklearn\\utils\\validation.py:1184: DataConversionWarning: A column-vector y was passed when a 1d array was expected. Please change the shape of y to (n_samples, ), for example using ravel().\n",
      "  y = column_or_1d(y, warn=True)\n",
      "C:\\Users\\ASUS\\AppData\\Local\\Programs\\Python\\Python310\\lib\\site-packages\\sklearn\\svm\\_classes.py:32: FutureWarning: The default value of `dual` will change from `True` to `'auto'` in 1.5. Set the value of `dual` explicitly to suppress the warning.\n",
      "  warnings.warn(\n",
      "C:\\Users\\ASUS\\AppData\\Local\\Programs\\Python\\Python310\\lib\\site-packages\\sklearn\\svm\\_base.py:1242: ConvergenceWarning: Liblinear failed to converge, increase the number of iterations.\n",
      "  warnings.warn(\n"
     ]
    }
   ],
   "source": [
    "clf = svm.LinearSVC(C = c_max)\n",
    "clf.fit(X_train_reduced , y_train)\n",
    "y_test_pred=clf.predict(X_test_reduced)\n",
    "mse=mean_squared_error(y_test_pred,y_test)\n",
    "\n",
    "Acc = accuracy_score(y_test_pred, y_test)\n",
    "print('MSE:', mse)\n",
    "print('acc:', Acc)"
   ]
  },
  {
   "cell_type": "code",
   "execution_count": 35,
   "id": "6d840e5d",
   "metadata": {},
   "outputs": [
    {
     "name": "stdout",
     "output_type": "stream",
     "text": [
      "Fitting 5 folds for each of 64 candidates, totalling 320 fits\n",
      "[CV 1/5] END .C=0.0001, gamma=1e-12, kernel=rbf;, score=0.444 total time=   0.0s\n",
      "[CV 2/5] END .C=0.0001, gamma=1e-12, kernel=rbf;, score=0.444 total time=   0.0s\n",
      "[CV 3/5] END .C=0.0001, gamma=1e-12, kernel=rbf;, score=0.444 total time=   0.0s\n",
      "[CV 4/5] END .C=0.0001, gamma=1e-12, kernel=rbf;, score=0.444 total time=   0.0s\n",
      "[CV 5/5] END .C=0.0001, gamma=1e-12, kernel=rbf;, score=0.444 total time=   0.0s\n",
      "[CV 1/5] END .C=0.0001, gamma=1e-10, kernel=rbf;, score=0.444 total time=   0.0s\n",
      "[CV 2/5] END .C=0.0001, gamma=1e-10, kernel=rbf;, score=0.444 total time=   0.0s\n",
      "[CV 3/5] END .C=0.0001, gamma=1e-10, kernel=rbf;, score=0.444 total time=   0.0s\n",
      "[CV 4/5] END .C=0.0001, gamma=1e-10, kernel=rbf;, score=0.444 total time=   0.0s\n",
      "[CV 5/5] END .C=0.0001, gamma=1e-10, kernel=rbf;, score=0.444 total time=   0.0s\n",
      "[CV 1/5] END .C=0.0001, gamma=1e-08, kernel=rbf;, score=0.444 total time=   0.0s\n",
      "[CV 2/5] END .C=0.0001, gamma=1e-08, kernel=rbf;, score=0.444 total time=   0.0s\n",
      "[CV 3/5] END .C=0.0001, gamma=1e-08, kernel=rbf;, score=0.444 total time=   0.0s\n",
      "[CV 4/5] END .C=0.0001, gamma=1e-08, kernel=rbf;, score=0.444 total time=   0.0s\n",
      "[CV 5/5] END .C=0.0001, gamma=1e-08, kernel=rbf;, score=0.444 total time=   0.0s\n",
      "[CV 1/5] END .C=0.0001, gamma=1e-06, kernel=rbf;, score=0.444 total time=   0.0s\n",
      "[CV 2/5] END .C=0.0001, gamma=1e-06, kernel=rbf;, score=0.444 total time=   0.0s\n",
      "[CV 3/5] END .C=0.0001, gamma=1e-06, kernel=rbf;, score=0.444 total time=   0.0s\n",
      "[CV 4/5] END .C=0.0001, gamma=1e-06, kernel=rbf;, score=0.444 total time=   0.0s\n",
      "[CV 5/5] END .C=0.0001, gamma=1e-06, kernel=rbf;, score=0.444 total time=   0.0s\n",
      "[CV 1/5] END C=0.0001, gamma=0.0001, kernel=rbf;, score=0.444 total time=   0.0s\n",
      "[CV 2/5] END C=0.0001, gamma=0.0001, kernel=rbf;, score=0.444 total time=   0.0s\n",
      "[CV 3/5] END C=0.0001, gamma=0.0001, kernel=rbf;, score=0.444 total time=   0.0s\n",
      "[CV 4/5] END C=0.0001, gamma=0.0001, kernel=rbf;, score=0.444 total time=   0.0s\n",
      "[CV 5/5] END C=0.0001, gamma=0.0001, kernel=rbf;, score=0.444 total time=   0.0s\n",
      "[CV 1/5] END ..C=0.0001, gamma=0.01, kernel=rbf;, score=0.444 total time=   0.0s\n",
      "[CV 2/5] END ..C=0.0001, gamma=0.01, kernel=rbf;, score=0.444 total time=   0.0s\n",
      "[CV 3/5] END ..C=0.0001, gamma=0.01, kernel=rbf;, score=0.444 total time=   0.0s\n",
      "[CV 4/5] END ..C=0.0001, gamma=0.01, kernel=rbf;, score=0.444 total time=   0.0s\n",
      "[CV 5/5] END ..C=0.0001, gamma=0.01, kernel=rbf;, score=0.444 total time=   0.0s\n",
      "[CV 1/5] END .....C=0.0001, gamma=1, kernel=rbf;, score=0.444 total time=   0.0s\n",
      "[CV 2/5] END .....C=0.0001, gamma=1, kernel=rbf;, score=0.444 total time=   0.0s\n",
      "[CV 3/5] END .....C=0.0001, gamma=1, kernel=rbf;, score=0.444 total time=   0.0s\n",
      "[CV 4/5] END .....C=0.0001, gamma=1, kernel=rbf;, score=0.444 total time=   0.0s\n",
      "[CV 5/5] END .....C=0.0001, gamma=1, kernel=rbf;, score=0.444 total time=   0.0s\n",
      "[CV 1/5] END ....C=0.0001, gamma=10, kernel=rbf;, score=0.444 total time=   0.0s\n",
      "[CV 2/5] END ....C=0.0001, gamma=10, kernel=rbf;, score=0.444 total time=   0.0s\n",
      "[CV 3/5] END ....C=0.0001, gamma=10, kernel=rbf;, score=0.444 total time=   0.0s\n",
      "[CV 4/5] END ....C=0.0001, gamma=10, kernel=rbf;, score=0.444 total time=   0.0s\n",
      "[CV 5/5] END ....C=0.0001, gamma=10, kernel=rbf;, score=0.444 total time=   0.0s\n",
      "[CV 1/5] END ..C=0.001, gamma=1e-12, kernel=rbf;, score=0.444 total time=   0.0s\n",
      "[CV 2/5] END ..C=0.001, gamma=1e-12, kernel=rbf;, score=0.444 total time=   0.0s\n",
      "[CV 3/5] END ..C=0.001, gamma=1e-12, kernel=rbf;, score=0.444 total time=   0.0s\n",
      "[CV 4/5] END ..C=0.001, gamma=1e-12, kernel=rbf;, score=0.444 total time=   0.0s\n",
      "[CV 5/5] END ..C=0.001, gamma=1e-12, kernel=rbf;, score=0.444 total time=   0.0s\n",
      "[CV 1/5] END ..C=0.001, gamma=1e-10, kernel=rbf;, score=0.444 total time=   0.0s\n",
      "[CV 2/5] END ..C=0.001, gamma=1e-10, kernel=rbf;, score=0.444 total time=   0.0s\n",
      "[CV 3/5] END ..C=0.001, gamma=1e-10, kernel=rbf;, score=0.444 total time=   0.0s\n",
      "[CV 4/5] END ..C=0.001, gamma=1e-10, kernel=rbf;, score=0.444 total time=   0.0s\n",
      "[CV 5/5] END ..C=0.001, gamma=1e-10, kernel=rbf;, score=0.444 total time=   0.0s\n",
      "[CV 1/5] END ..C=0.001, gamma=1e-08, kernel=rbf;, score=0.444 total time=   0.0s\n",
      "[CV 2/5] END ..C=0.001, gamma=1e-08, kernel=rbf;, score=0.444 total time=   0.0s\n",
      "[CV 3/5] END ..C=0.001, gamma=1e-08, kernel=rbf;, score=0.444 total time=   0.0s\n",
      "[CV 4/5] END ..C=0.001, gamma=1e-08, kernel=rbf;, score=0.444 total time=   0.0s\n",
      "[CV 5/5] END ..C=0.001, gamma=1e-08, kernel=rbf;, score=0.444 total time=   0.0s\n",
      "[CV 1/5] END ..C=0.001, gamma=1e-06, kernel=rbf;, score=0.444 total time=   0.0s\n",
      "[CV 2/5] END ..C=0.001, gamma=1e-06, kernel=rbf;, score=0.444 total time=   0.0s\n",
      "[CV 3/5] END ..C=0.001, gamma=1e-06, kernel=rbf;, score=0.444 total time=   0.0s\n",
      "[CV 4/5] END ..C=0.001, gamma=1e-06, kernel=rbf;, score=0.444 total time=   0.0s\n",
      "[CV 5/5] END ..C=0.001, gamma=1e-06, kernel=rbf;, score=0.444 total time=   0.0s\n",
      "[CV 1/5] END .C=0.001, gamma=0.0001, kernel=rbf;, score=0.444 total time=   0.0s\n",
      "[CV 2/5] END .C=0.001, gamma=0.0001, kernel=rbf;, score=0.444 total time=   0.0s\n",
      "[CV 3/5] END .C=0.001, gamma=0.0001, kernel=rbf;, score=0.444 total time=   0.0s\n",
      "[CV 4/5] END .C=0.001, gamma=0.0001, kernel=rbf;, score=0.444 total time=   0.0s\n",
      "[CV 5/5] END .C=0.001, gamma=0.0001, kernel=rbf;, score=0.444 total time=   0.0s\n",
      "[CV 1/5] END ...C=0.001, gamma=0.01, kernel=rbf;, score=0.444 total time=   0.0s\n",
      "[CV 2/5] END ...C=0.001, gamma=0.01, kernel=rbf;, score=0.444 total time=   0.0s\n",
      "[CV 3/5] END ...C=0.001, gamma=0.01, kernel=rbf;, score=0.444 total time=   0.0s\n",
      "[CV 4/5] END ...C=0.001, gamma=0.01, kernel=rbf;, score=0.444 total time=   0.0s\n",
      "[CV 5/5] END ...C=0.001, gamma=0.01, kernel=rbf;, score=0.444 total time=   0.0s\n",
      "[CV 1/5] END ......C=0.001, gamma=1, kernel=rbf;, score=0.444 total time=   0.0s\n",
      "[CV 2/5] END ......C=0.001, gamma=1, kernel=rbf;, score=0.444 total time=   0.0s\n",
      "[CV 3/5] END ......C=0.001, gamma=1, kernel=rbf;, score=0.444 total time=   0.0s\n",
      "[CV 4/5] END ......C=0.001, gamma=1, kernel=rbf;, score=0.444 total time=   0.0s\n",
      "[CV 5/5] END ......C=0.001, gamma=1, kernel=rbf;, score=0.444 total time=   0.0s\n",
      "[CV 1/5] END .....C=0.001, gamma=10, kernel=rbf;, score=0.444 total time=   0.0s\n",
      "[CV 2/5] END .....C=0.001, gamma=10, kernel=rbf;, score=0.444 total time=   0.0s\n",
      "[CV 3/5] END .....C=0.001, gamma=10, kernel=rbf;, score=0.444 total time=   0.0s\n",
      "[CV 4/5] END .....C=0.001, gamma=10, kernel=rbf;, score=0.444 total time=   0.0s\n",
      "[CV 5/5] END .....C=0.001, gamma=10, kernel=rbf;, score=0.444 total time=   0.0s\n",
      "[CV 1/5] END ...C=0.01, gamma=1e-12, kernel=rbf;, score=0.444 total time=   0.0s\n",
      "[CV 2/5] END ...C=0.01, gamma=1e-12, kernel=rbf;, score=0.444 total time=   0.0s\n",
      "[CV 3/5] END ...C=0.01, gamma=1e-12, kernel=rbf;, score=0.444 total time=   0.0s\n",
      "[CV 4/5] END ...C=0.01, gamma=1e-12, kernel=rbf;, score=0.444 total time=   0.0s\n",
      "[CV 5/5] END ...C=0.01, gamma=1e-12, kernel=rbf;, score=0.444 total time=   0.0s\n",
      "[CV 1/5] END ...C=0.01, gamma=1e-10, kernel=rbf;, score=0.444 total time=   0.0s\n",
      "[CV 2/5] END ...C=0.01, gamma=1e-10, kernel=rbf;, score=0.444 total time=   0.0s\n",
      "[CV 3/5] END ...C=0.01, gamma=1e-10, kernel=rbf;, score=0.444 total time=   0.0s\n",
      "[CV 4/5] END ...C=0.01, gamma=1e-10, kernel=rbf;, score=0.444 total time=   0.0s\n",
      "[CV 5/5] END ...C=0.01, gamma=1e-10, kernel=rbf;, score=0.444 total time=   0.0s\n",
      "[CV 1/5] END ...C=0.01, gamma=1e-08, kernel=rbf;, score=0.444 total time=   0.0s\n",
      "[CV 2/5] END ...C=0.01, gamma=1e-08, kernel=rbf;, score=0.444 total time=   0.0s\n",
      "[CV 3/5] END ...C=0.01, gamma=1e-08, kernel=rbf;, score=0.444 total time=   0.0s\n",
      "[CV 4/5] END ...C=0.01, gamma=1e-08, kernel=rbf;, score=0.444 total time=   0.0s\n",
      "[CV 5/5] END ...C=0.01, gamma=1e-08, kernel=rbf;, score=0.444 total time=   0.0s\n",
      "[CV 1/5] END ...C=0.01, gamma=1e-06, kernel=rbf;, score=0.444 total time=   0.0s\n",
      "[CV 2/5] END ...C=0.01, gamma=1e-06, kernel=rbf;, score=0.444 total time=   0.0s\n",
      "[CV 3/5] END ...C=0.01, gamma=1e-06, kernel=rbf;, score=0.444 total time=   0.0s\n",
      "[CV 4/5] END ...C=0.01, gamma=1e-06, kernel=rbf;, score=0.444 total time=   0.0s\n",
      "[CV 5/5] END ...C=0.01, gamma=1e-06, kernel=rbf;, score=0.444 total time=   0.0s\n",
      "[CV 1/5] END ..C=0.01, gamma=0.0001, kernel=rbf;, score=0.444 total time=   0.0s\n",
      "[CV 2/5] END ..C=0.01, gamma=0.0001, kernel=rbf;, score=0.444 total time=   0.0s\n",
      "[CV 3/5] END ..C=0.01, gamma=0.0001, kernel=rbf;, score=0.444 total time=   0.0s\n",
      "[CV 4/5] END ..C=0.01, gamma=0.0001, kernel=rbf;, score=0.444 total time=   0.0s\n",
      "[CV 5/5] END ..C=0.01, gamma=0.0001, kernel=rbf;, score=0.444 total time=   0.0s\n",
      "[CV 1/5] END ....C=0.01, gamma=0.01, kernel=rbf;, score=0.444 total time=   0.0s\n",
      "[CV 2/5] END ....C=0.01, gamma=0.01, kernel=rbf;, score=0.444 total time=   0.0s\n",
      "[CV 3/5] END ....C=0.01, gamma=0.01, kernel=rbf;, score=0.444 total time=   0.0s\n",
      "[CV 4/5] END ....C=0.01, gamma=0.01, kernel=rbf;, score=0.444 total time=   0.0s\n",
      "[CV 5/5] END ....C=0.01, gamma=0.01, kernel=rbf;, score=0.444 total time=   0.0s\n",
      "[CV 1/5] END .......C=0.01, gamma=1, kernel=rbf;, score=0.444 total time=   0.0s\n",
      "[CV 2/5] END .......C=0.01, gamma=1, kernel=rbf;, score=0.444 total time=   0.0s\n",
      "[CV 3/5] END .......C=0.01, gamma=1, kernel=rbf;, score=0.444 total time=   0.0s\n",
      "[CV 4/5] END .......C=0.01, gamma=1, kernel=rbf;, score=0.444 total time=   0.0s\n",
      "[CV 5/5] END .......C=0.01, gamma=1, kernel=rbf;, score=0.444 total time=   0.0s\n",
      "[CV 1/5] END ......C=0.01, gamma=10, kernel=rbf;, score=0.444 total time=   0.0s\n",
      "[CV 2/5] END ......C=0.01, gamma=10, kernel=rbf;, score=0.444 total time=   0.0s\n",
      "[CV 3/5] END ......C=0.01, gamma=10, kernel=rbf;, score=0.444 total time=   0.0s\n",
      "[CV 4/5] END ......C=0.01, gamma=10, kernel=rbf;, score=0.444 total time=   0.0s\n",
      "[CV 5/5] END ......C=0.01, gamma=10, kernel=rbf;, score=0.444 total time=   0.0s\n",
      "[CV 1/5] END ....C=0.1, gamma=1e-12, kernel=rbf;, score=0.444 total time=   0.0s\n",
      "[CV 2/5] END ....C=0.1, gamma=1e-12, kernel=rbf;, score=0.444 total time=   0.0s\n",
      "[CV 3/5] END ....C=0.1, gamma=1e-12, kernel=rbf;, score=0.444 total time=   0.0s\n",
      "[CV 4/5] END ....C=0.1, gamma=1e-12, kernel=rbf;, score=0.444 total time=   0.0s\n",
      "[CV 5/5] END ....C=0.1, gamma=1e-12, kernel=rbf;, score=0.444 total time=   0.0s\n",
      "[CV 1/5] END ....C=0.1, gamma=1e-10, kernel=rbf;, score=0.444 total time=   0.0s\n",
      "[CV 2/5] END ....C=0.1, gamma=1e-10, kernel=rbf;, score=0.444 total time=   0.0s\n"
     ]
    },
    {
     "name": "stdout",
     "output_type": "stream",
     "text": [
      "[CV 3/5] END ....C=0.1, gamma=1e-10, kernel=rbf;, score=0.444 total time=   0.0s\n",
      "[CV 4/5] END ....C=0.1, gamma=1e-10, kernel=rbf;, score=0.444 total time=   0.0s\n",
      "[CV 5/5] END ....C=0.1, gamma=1e-10, kernel=rbf;, score=0.444 total time=   0.0s\n",
      "[CV 1/5] END ....C=0.1, gamma=1e-08, kernel=rbf;, score=0.444 total time=   0.0s\n",
      "[CV 2/5] END ....C=0.1, gamma=1e-08, kernel=rbf;, score=0.444 total time=   0.0s\n",
      "[CV 3/5] END ....C=0.1, gamma=1e-08, kernel=rbf;, score=0.444 total time=   0.0s\n",
      "[CV 4/5] END ....C=0.1, gamma=1e-08, kernel=rbf;, score=0.444 total time=   0.0s\n",
      "[CV 5/5] END ....C=0.1, gamma=1e-08, kernel=rbf;, score=0.444 total time=   0.0s\n",
      "[CV 1/5] END ....C=0.1, gamma=1e-06, kernel=rbf;, score=0.444 total time=   0.0s\n",
      "[CV 2/5] END ....C=0.1, gamma=1e-06, kernel=rbf;, score=0.444 total time=   0.0s\n",
      "[CV 3/5] END ....C=0.1, gamma=1e-06, kernel=rbf;, score=0.444 total time=   0.0s\n",
      "[CV 4/5] END ....C=0.1, gamma=1e-06, kernel=rbf;, score=0.444 total time=   0.0s\n",
      "[CV 5/5] END ....C=0.1, gamma=1e-06, kernel=rbf;, score=0.444 total time=   0.0s\n",
      "[CV 1/5] END ...C=0.1, gamma=0.0001, kernel=rbf;, score=0.444 total time=   0.0s\n",
      "[CV 2/5] END ...C=0.1, gamma=0.0001, kernel=rbf;, score=0.444 total time=   0.0s\n",
      "[CV 3/5] END ...C=0.1, gamma=0.0001, kernel=rbf;, score=0.444 total time=   0.0s\n",
      "[CV 4/5] END ...C=0.1, gamma=0.0001, kernel=rbf;, score=0.444 total time=   0.0s\n",
      "[CV 5/5] END ...C=0.1, gamma=0.0001, kernel=rbf;, score=0.444 total time=   0.0s\n",
      "[CV 1/5] END .....C=0.1, gamma=0.01, kernel=rbf;, score=0.444 total time=   0.0s\n",
      "[CV 2/5] END .....C=0.1, gamma=0.01, kernel=rbf;, score=0.444 total time=   0.0s\n",
      "[CV 3/5] END .....C=0.1, gamma=0.01, kernel=rbf;, score=0.444 total time=   0.0s\n",
      "[CV 4/5] END .....C=0.1, gamma=0.01, kernel=rbf;, score=0.444 total time=   0.0s\n",
      "[CV 5/5] END .....C=0.1, gamma=0.01, kernel=rbf;, score=0.444 total time=   0.0s\n",
      "[CV 1/5] END ........C=0.1, gamma=1, kernel=rbf;, score=0.444 total time=   0.0s\n",
      "[CV 2/5] END ........C=0.1, gamma=1, kernel=rbf;, score=0.444 total time=   0.0s\n",
      "[CV 3/5] END ........C=0.1, gamma=1, kernel=rbf;, score=0.444 total time=   0.0s\n",
      "[CV 4/5] END ........C=0.1, gamma=1, kernel=rbf;, score=0.444 total time=   0.0s\n",
      "[CV 5/5] END ........C=0.1, gamma=1, kernel=rbf;, score=0.444 total time=   0.0s\n",
      "[CV 1/5] END .......C=0.1, gamma=10, kernel=rbf;, score=0.444 total time=   0.0s\n",
      "[CV 2/5] END .......C=0.1, gamma=10, kernel=rbf;, score=0.444 total time=   0.0s\n",
      "[CV 3/5] END .......C=0.1, gamma=10, kernel=rbf;, score=0.444 total time=   0.0s\n",
      "[CV 4/5] END .......C=0.1, gamma=10, kernel=rbf;, score=0.444 total time=   0.0s\n",
      "[CV 5/5] END .......C=0.1, gamma=10, kernel=rbf;, score=0.444 total time=   0.0s\n",
      "[CV 1/5] END ......C=1, gamma=1e-12, kernel=rbf;, score=0.444 total time=   0.0s\n",
      "[CV 2/5] END ......C=1, gamma=1e-12, kernel=rbf;, score=0.444 total time=   0.0s\n",
      "[CV 3/5] END ......C=1, gamma=1e-12, kernel=rbf;, score=0.444 total time=   0.0s\n",
      "[CV 4/5] END ......C=1, gamma=1e-12, kernel=rbf;, score=0.444 total time=   0.0s\n",
      "[CV 5/5] END ......C=1, gamma=1e-12, kernel=rbf;, score=0.444 total time=   0.0s\n",
      "[CV 1/5] END ......C=1, gamma=1e-10, kernel=rbf;, score=0.444 total time=   0.0s\n",
      "[CV 2/5] END ......C=1, gamma=1e-10, kernel=rbf;, score=0.444 total time=   0.0s\n",
      "[CV 3/5] END ......C=1, gamma=1e-10, kernel=rbf;, score=0.444 total time=   0.0s\n",
      "[CV 4/5] END ......C=1, gamma=1e-10, kernel=rbf;, score=0.444 total time=   0.0s\n",
      "[CV 5/5] END ......C=1, gamma=1e-10, kernel=rbf;, score=0.444 total time=   0.0s\n",
      "[CV 1/5] END ......C=1, gamma=1e-08, kernel=rbf;, score=0.296 total time=   0.0s\n",
      "[CV 2/5] END ......C=1, gamma=1e-08, kernel=rbf;, score=0.389 total time=   0.0s\n",
      "[CV 3/5] END ......C=1, gamma=1e-08, kernel=rbf;, score=0.352 total time=   0.0s\n",
      "[CV 4/5] END ......C=1, gamma=1e-08, kernel=rbf;, score=0.463 total time=   0.0s\n",
      "[CV 5/5] END ......C=1, gamma=1e-08, kernel=rbf;, score=0.389 total time=   0.0s\n",
      "[CV 1/5] END ......C=1, gamma=1e-06, kernel=rbf;, score=0.444 total time=   0.0s\n",
      "[CV 2/5] END ......C=1, gamma=1e-06, kernel=rbf;, score=0.444 total time=   0.0s\n",
      "[CV 3/5] END ......C=1, gamma=1e-06, kernel=rbf;, score=0.444 total time=   0.0s\n",
      "[CV 4/5] END ......C=1, gamma=1e-06, kernel=rbf;, score=0.444 total time=   0.0s\n",
      "[CV 5/5] END ......C=1, gamma=1e-06, kernel=rbf;, score=0.444 total time=   0.0s\n",
      "[CV 1/5] END .....C=1, gamma=0.0001, kernel=rbf;, score=0.444 total time=   0.0s\n",
      "[CV 2/5] END .....C=1, gamma=0.0001, kernel=rbf;, score=0.444 total time=   0.0s\n",
      "[CV 3/5] END .....C=1, gamma=0.0001, kernel=rbf;, score=0.444 total time=   0.0s\n",
      "[CV 4/5] END .....C=1, gamma=0.0001, kernel=rbf;, score=0.444 total time=   0.0s\n",
      "[CV 5/5] END .....C=1, gamma=0.0001, kernel=rbf;, score=0.444 total time=   0.0s\n",
      "[CV 1/5] END .......C=1, gamma=0.01, kernel=rbf;, score=0.444 total time=   0.0s\n",
      "[CV 2/5] END .......C=1, gamma=0.01, kernel=rbf;, score=0.444 total time=   0.0s\n",
      "[CV 3/5] END .......C=1, gamma=0.01, kernel=rbf;, score=0.444 total time=   0.0s\n",
      "[CV 4/5] END .......C=1, gamma=0.01, kernel=rbf;, score=0.444 total time=   0.0s\n",
      "[CV 5/5] END .......C=1, gamma=0.01, kernel=rbf;, score=0.444 total time=   0.0s\n",
      "[CV 1/5] END ..........C=1, gamma=1, kernel=rbf;, score=0.444 total time=   0.0s\n",
      "[CV 2/5] END ..........C=1, gamma=1, kernel=rbf;, score=0.444 total time=   0.0s\n",
      "[CV 3/5] END ..........C=1, gamma=1, kernel=rbf;, score=0.444 total time=   0.0s\n",
      "[CV 4/5] END ..........C=1, gamma=1, kernel=rbf;, score=0.444 total time=   0.0s\n",
      "[CV 5/5] END ..........C=1, gamma=1, kernel=rbf;, score=0.444 total time=   0.0s\n",
      "[CV 1/5] END .........C=1, gamma=10, kernel=rbf;, score=0.444 total time=   0.0s\n",
      "[CV 2/5] END .........C=1, gamma=10, kernel=rbf;, score=0.444 total time=   0.0s\n",
      "[CV 3/5] END .........C=1, gamma=10, kernel=rbf;, score=0.444 total time=   0.0s\n",
      "[CV 4/5] END .........C=1, gamma=10, kernel=rbf;, score=0.444 total time=   0.0s\n",
      "[CV 5/5] END .........C=1, gamma=10, kernel=rbf;, score=0.444 total time=   0.0s\n",
      "[CV 1/5] END .....C=10, gamma=1e-12, kernel=rbf;, score=0.444 total time=   0.0s\n",
      "[CV 2/5] END .....C=10, gamma=1e-12, kernel=rbf;, score=0.444 total time=   0.0s\n",
      "[CV 3/5] END .....C=10, gamma=1e-12, kernel=rbf;, score=0.444 total time=   0.0s\n",
      "[CV 4/5] END .....C=10, gamma=1e-12, kernel=rbf;, score=0.444 total time=   0.0s\n",
      "[CV 5/5] END .....C=10, gamma=1e-12, kernel=rbf;, score=0.444 total time=   0.0s\n",
      "[CV 1/5] END .....C=10, gamma=1e-10, kernel=rbf;, score=0.685 total time=   0.0s\n",
      "[CV 2/5] END .....C=10, gamma=1e-10, kernel=rbf;, score=0.667 total time=   0.0s\n",
      "[CV 3/5] END .....C=10, gamma=1e-10, kernel=rbf;, score=0.741 total time=   0.0s\n",
      "[CV 4/5] END .....C=10, gamma=1e-10, kernel=rbf;, score=0.722 total time=   0.0s\n",
      "[CV 5/5] END .....C=10, gamma=1e-10, kernel=rbf;, score=0.759 total time=   0.0s\n",
      "[CV 1/5] END .....C=10, gamma=1e-08, kernel=rbf;, score=0.259 total time=   0.0s\n",
      "[CV 2/5] END .....C=10, gamma=1e-08, kernel=rbf;, score=0.426 total time=   0.0s\n",
      "[CV 3/5] END .....C=10, gamma=1e-08, kernel=rbf;, score=0.370 total time=   0.0s\n",
      "[CV 4/5] END .....C=10, gamma=1e-08, kernel=rbf;, score=0.481 total time=   0.0s\n",
      "[CV 5/5] END .....C=10, gamma=1e-08, kernel=rbf;, score=0.352 total time=   0.0s\n",
      "[CV 1/5] END .....C=10, gamma=1e-06, kernel=rbf;, score=0.444 total time=   0.0s\n",
      "[CV 2/5] END .....C=10, gamma=1e-06, kernel=rbf;, score=0.444 total time=   0.0s\n",
      "[CV 3/5] END .....C=10, gamma=1e-06, kernel=rbf;, score=0.444 total time=   0.0s\n",
      "[CV 4/5] END .....C=10, gamma=1e-06, kernel=rbf;, score=0.444 total time=   0.0s\n",
      "[CV 5/5] END .....C=10, gamma=1e-06, kernel=rbf;, score=0.444 total time=   0.0s\n",
      "[CV 1/5] END ....C=10, gamma=0.0001, kernel=rbf;, score=0.444 total time=   0.0s\n",
      "[CV 2/5] END ....C=10, gamma=0.0001, kernel=rbf;, score=0.444 total time=   0.0s\n",
      "[CV 3/5] END ....C=10, gamma=0.0001, kernel=rbf;, score=0.444 total time=   0.0s\n",
      "[CV 4/5] END ....C=10, gamma=0.0001, kernel=rbf;, score=0.444 total time=   0.0s\n",
      "[CV 5/5] END ....C=10, gamma=0.0001, kernel=rbf;, score=0.444 total time=   0.0s\n",
      "[CV 1/5] END ......C=10, gamma=0.01, kernel=rbf;, score=0.444 total time=   0.0s\n",
      "[CV 2/5] END ......C=10, gamma=0.01, kernel=rbf;, score=0.444 total time=   0.0s\n",
      "[CV 3/5] END ......C=10, gamma=0.01, kernel=rbf;, score=0.444 total time=   0.0s\n",
      "[CV 4/5] END ......C=10, gamma=0.01, kernel=rbf;, score=0.444 total time=   0.0s\n",
      "[CV 5/5] END ......C=10, gamma=0.01, kernel=rbf;, score=0.444 total time=   0.0s\n",
      "[CV 1/5] END .........C=10, gamma=1, kernel=rbf;, score=0.444 total time=   0.0s\n",
      "[CV 2/5] END .........C=10, gamma=1, kernel=rbf;, score=0.444 total time=   0.0s\n"
     ]
    },
    {
     "name": "stdout",
     "output_type": "stream",
     "text": [
      "[CV 3/5] END .........C=10, gamma=1, kernel=rbf;, score=0.444 total time=   0.0s\n",
      "[CV 4/5] END .........C=10, gamma=1, kernel=rbf;, score=0.444 total time=   0.0s\n",
      "[CV 5/5] END .........C=10, gamma=1, kernel=rbf;, score=0.444 total time=   0.0s\n",
      "[CV 1/5] END ........C=10, gamma=10, kernel=rbf;, score=0.444 total time=   0.0s\n",
      "[CV 2/5] END ........C=10, gamma=10, kernel=rbf;, score=0.444 total time=   0.0s\n",
      "[CV 3/5] END ........C=10, gamma=10, kernel=rbf;, score=0.444 total time=   0.0s\n",
      "[CV 4/5] END ........C=10, gamma=10, kernel=rbf;, score=0.444 total time=   0.0s\n",
      "[CV 5/5] END ........C=10, gamma=10, kernel=rbf;, score=0.444 total time=   0.0s\n",
      "[CV 1/5] END ....C=100, gamma=1e-12, kernel=rbf;, score=0.444 total time=   0.0s\n",
      "[CV 2/5] END ....C=100, gamma=1e-12, kernel=rbf;, score=0.444 total time=   0.0s\n",
      "[CV 3/5] END ....C=100, gamma=1e-12, kernel=rbf;, score=0.444 total time=   0.0s\n",
      "[CV 4/5] END ....C=100, gamma=1e-12, kernel=rbf;, score=0.444 total time=   0.0s\n",
      "[CV 5/5] END ....C=100, gamma=1e-12, kernel=rbf;, score=0.444 total time=   0.0s\n",
      "[CV 1/5] END ....C=100, gamma=1e-10, kernel=rbf;, score=0.815 total time=   0.0s\n",
      "[CV 2/5] END ....C=100, gamma=1e-10, kernel=rbf;, score=0.778 total time=   0.0s\n",
      "[CV 3/5] END ....C=100, gamma=1e-10, kernel=rbf;, score=0.778 total time=   0.0s\n",
      "[CV 4/5] END ....C=100, gamma=1e-10, kernel=rbf;, score=0.833 total time=   0.0s\n",
      "[CV 5/5] END ....C=100, gamma=1e-10, kernel=rbf;, score=0.815 total time=   0.0s\n",
      "[CV 1/5] END ....C=100, gamma=1e-08, kernel=rbf;, score=0.259 total time=   0.0s\n",
      "[CV 2/5] END ....C=100, gamma=1e-08, kernel=rbf;, score=0.426 total time=   0.0s\n",
      "[CV 3/5] END ....C=100, gamma=1e-08, kernel=rbf;, score=0.370 total time=   0.0s\n",
      "[CV 4/5] END ....C=100, gamma=1e-08, kernel=rbf;, score=0.481 total time=   0.0s\n",
      "[CV 5/5] END ....C=100, gamma=1e-08, kernel=rbf;, score=0.352 total time=   0.0s\n",
      "[CV 1/5] END ....C=100, gamma=1e-06, kernel=rbf;, score=0.444 total time=   0.0s\n",
      "[CV 2/5] END ....C=100, gamma=1e-06, kernel=rbf;, score=0.444 total time=   0.0s\n",
      "[CV 3/5] END ....C=100, gamma=1e-06, kernel=rbf;, score=0.444 total time=   0.0s\n",
      "[CV 4/5] END ....C=100, gamma=1e-06, kernel=rbf;, score=0.444 total time=   0.0s\n",
      "[CV 5/5] END ....C=100, gamma=1e-06, kernel=rbf;, score=0.444 total time=   0.0s\n",
      "[CV 1/5] END ...C=100, gamma=0.0001, kernel=rbf;, score=0.444 total time=   0.0s\n",
      "[CV 2/5] END ...C=100, gamma=0.0001, kernel=rbf;, score=0.444 total time=   0.0s\n",
      "[CV 3/5] END ...C=100, gamma=0.0001, kernel=rbf;, score=0.444 total time=   0.0s\n",
      "[CV 4/5] END ...C=100, gamma=0.0001, kernel=rbf;, score=0.444 total time=   0.0s\n",
      "[CV 5/5] END ...C=100, gamma=0.0001, kernel=rbf;, score=0.444 total time=   0.0s\n",
      "[CV 1/5] END .....C=100, gamma=0.01, kernel=rbf;, score=0.444 total time=   0.0s\n",
      "[CV 2/5] END .....C=100, gamma=0.01, kernel=rbf;, score=0.444 total time=   0.0s\n",
      "[CV 3/5] END .....C=100, gamma=0.01, kernel=rbf;, score=0.444 total time=   0.0s\n",
      "[CV 4/5] END .....C=100, gamma=0.01, kernel=rbf;, score=0.444 total time=   0.0s\n",
      "[CV 5/5] END .....C=100, gamma=0.01, kernel=rbf;, score=0.444 total time=   0.0s\n",
      "[CV 1/5] END ........C=100, gamma=1, kernel=rbf;, score=0.444 total time=   0.0s\n",
      "[CV 2/5] END ........C=100, gamma=1, kernel=rbf;, score=0.444 total time=   0.0s\n",
      "[CV 3/5] END ........C=100, gamma=1, kernel=rbf;, score=0.444 total time=   0.0s\n",
      "[CV 4/5] END ........C=100, gamma=1, kernel=rbf;, score=0.444 total time=   0.0s\n",
      "[CV 5/5] END ........C=100, gamma=1, kernel=rbf;, score=0.444 total time=   0.0s\n",
      "[CV 1/5] END .......C=100, gamma=10, kernel=rbf;, score=0.444 total time=   0.0s\n",
      "[CV 2/5] END .......C=100, gamma=10, kernel=rbf;, score=0.444 total time=   0.0s\n",
      "[CV 3/5] END .......C=100, gamma=10, kernel=rbf;, score=0.444 total time=   0.0s\n",
      "[CV 4/5] END .......C=100, gamma=10, kernel=rbf;, score=0.444 total time=   0.0s\n",
      "[CV 5/5] END .......C=100, gamma=10, kernel=rbf;, score=0.444 total time=   0.0s\n",
      "[CV 1/5] END ...C=1000, gamma=1e-12, kernel=rbf;, score=0.685 total time=   0.0s\n",
      "[CV 2/5] END ...C=1000, gamma=1e-12, kernel=rbf;, score=0.704 total time=   0.0s\n",
      "[CV 3/5] END ...C=1000, gamma=1e-12, kernel=rbf;, score=0.741 total time=   0.0s\n",
      "[CV 4/5] END ...C=1000, gamma=1e-12, kernel=rbf;, score=0.722 total time=   0.0s\n",
      "[CV 5/5] END ...C=1000, gamma=1e-12, kernel=rbf;, score=0.759 total time=   0.0s\n",
      "[CV 1/5] END ...C=1000, gamma=1e-10, kernel=rbf;, score=0.852 total time=   0.0s\n",
      "[CV 2/5] END ...C=1000, gamma=1e-10, kernel=rbf;, score=0.778 total time=   0.0s\n",
      "[CV 3/5] END ...C=1000, gamma=1e-10, kernel=rbf;, score=0.778 total time=   0.0s\n",
      "[CV 4/5] END ...C=1000, gamma=1e-10, kernel=rbf;, score=0.759 total time=   0.0s\n",
      "[CV 5/5] END ...C=1000, gamma=1e-10, kernel=rbf;, score=0.796 total time=   0.0s\n",
      "[CV 1/5] END ...C=1000, gamma=1e-08, kernel=rbf;, score=0.259 total time=   0.0s\n",
      "[CV 2/5] END ...C=1000, gamma=1e-08, kernel=rbf;, score=0.426 total time=   0.0s\n",
      "[CV 3/5] END ...C=1000, gamma=1e-08, kernel=rbf;, score=0.370 total time=   0.0s\n",
      "[CV 4/5] END ...C=1000, gamma=1e-08, kernel=rbf;, score=0.481 total time=   0.0s\n",
      "[CV 5/5] END ...C=1000, gamma=1e-08, kernel=rbf;, score=0.352 total time=   0.0s\n",
      "[CV 1/5] END ...C=1000, gamma=1e-06, kernel=rbf;, score=0.444 total time=   0.0s\n",
      "[CV 2/5] END ...C=1000, gamma=1e-06, kernel=rbf;, score=0.444 total time=   0.0s\n",
      "[CV 3/5] END ...C=1000, gamma=1e-06, kernel=rbf;, score=0.444 total time=   0.0s\n",
      "[CV 4/5] END ...C=1000, gamma=1e-06, kernel=rbf;, score=0.444 total time=   0.0s\n",
      "[CV 5/5] END ...C=1000, gamma=1e-06, kernel=rbf;, score=0.444 total time=   0.0s\n",
      "[CV 1/5] END ..C=1000, gamma=0.0001, kernel=rbf;, score=0.444 total time=   0.0s\n",
      "[CV 2/5] END ..C=1000, gamma=0.0001, kernel=rbf;, score=0.444 total time=   0.0s\n",
      "[CV 3/5] END ..C=1000, gamma=0.0001, kernel=rbf;, score=0.444 total time=   0.0s\n",
      "[CV 4/5] END ..C=1000, gamma=0.0001, kernel=rbf;, score=0.444 total time=   0.0s\n",
      "[CV 5/5] END ..C=1000, gamma=0.0001, kernel=rbf;, score=0.444 total time=   0.0s\n",
      "[CV 1/5] END ....C=1000, gamma=0.01, kernel=rbf;, score=0.444 total time=   0.0s\n",
      "[CV 2/5] END ....C=1000, gamma=0.01, kernel=rbf;, score=0.444 total time=   0.0s\n",
      "[CV 3/5] END ....C=1000, gamma=0.01, kernel=rbf;, score=0.444 total time=   0.0s\n",
      "[CV 4/5] END ....C=1000, gamma=0.01, kernel=rbf;, score=0.444 total time=   0.0s\n",
      "[CV 5/5] END ....C=1000, gamma=0.01, kernel=rbf;, score=0.444 total time=   0.0s\n",
      "[CV 1/5] END .......C=1000, gamma=1, kernel=rbf;, score=0.444 total time=   0.0s\n",
      "[CV 2/5] END .......C=1000, gamma=1, kernel=rbf;, score=0.444 total time=   0.0s\n",
      "[CV 3/5] END .......C=1000, gamma=1, kernel=rbf;, score=0.444 total time=   0.0s\n",
      "[CV 4/5] END .......C=1000, gamma=1, kernel=rbf;, score=0.444 total time=   0.0s\n",
      "[CV 5/5] END .......C=1000, gamma=1, kernel=rbf;, score=0.444 total time=   0.0s\n",
      "[CV 1/5] END ......C=1000, gamma=10, kernel=rbf;, score=0.444 total time=   0.0s\n",
      "[CV 2/5] END ......C=1000, gamma=10, kernel=rbf;, score=0.444 total time=   0.0s\n",
      "[CV 3/5] END ......C=1000, gamma=10, kernel=rbf;, score=0.444 total time=   0.0s\n",
      "[CV 4/5] END ......C=1000, gamma=10, kernel=rbf;, score=0.444 total time=   0.0s\n",
      "[CV 5/5] END ......C=1000, gamma=10, kernel=rbf;, score=0.444 total time=   0.0s\n"
     ]
    },
    {
     "data": {
      "text/html": [
       "<style>#sk-container-id-1 {color: black;}#sk-container-id-1 pre{padding: 0;}#sk-container-id-1 div.sk-toggleable {background-color: white;}#sk-container-id-1 label.sk-toggleable__label {cursor: pointer;display: block;width: 100%;margin-bottom: 0;padding: 0.3em;box-sizing: border-box;text-align: center;}#sk-container-id-1 label.sk-toggleable__label-arrow:before {content: \"▸\";float: left;margin-right: 0.25em;color: #696969;}#sk-container-id-1 label.sk-toggleable__label-arrow:hover:before {color: black;}#sk-container-id-1 div.sk-estimator:hover label.sk-toggleable__label-arrow:before {color: black;}#sk-container-id-1 div.sk-toggleable__content {max-height: 0;max-width: 0;overflow: hidden;text-align: left;background-color: #f0f8ff;}#sk-container-id-1 div.sk-toggleable__content pre {margin: 0.2em;color: black;border-radius: 0.25em;background-color: #f0f8ff;}#sk-container-id-1 input.sk-toggleable__control:checked~div.sk-toggleable__content {max-height: 200px;max-width: 100%;overflow: auto;}#sk-container-id-1 input.sk-toggleable__control:checked~label.sk-toggleable__label-arrow:before {content: \"▾\";}#sk-container-id-1 div.sk-estimator input.sk-toggleable__control:checked~label.sk-toggleable__label {background-color: #d4ebff;}#sk-container-id-1 div.sk-label input.sk-toggleable__control:checked~label.sk-toggleable__label {background-color: #d4ebff;}#sk-container-id-1 input.sk-hidden--visually {border: 0;clip: rect(1px 1px 1px 1px);clip: rect(1px, 1px, 1px, 1px);height: 1px;margin: -1px;overflow: hidden;padding: 0;position: absolute;width: 1px;}#sk-container-id-1 div.sk-estimator {font-family: monospace;background-color: #f0f8ff;border: 1px dotted black;border-radius: 0.25em;box-sizing: border-box;margin-bottom: 0.5em;}#sk-container-id-1 div.sk-estimator:hover {background-color: #d4ebff;}#sk-container-id-1 div.sk-parallel-item::after {content: \"\";width: 100%;border-bottom: 1px solid gray;flex-grow: 1;}#sk-container-id-1 div.sk-label:hover label.sk-toggleable__label {background-color: #d4ebff;}#sk-container-id-1 div.sk-serial::before {content: \"\";position: absolute;border-left: 1px solid gray;box-sizing: border-box;top: 0;bottom: 0;left: 50%;z-index: 0;}#sk-container-id-1 div.sk-serial {display: flex;flex-direction: column;align-items: center;background-color: white;padding-right: 0.2em;padding-left: 0.2em;position: relative;}#sk-container-id-1 div.sk-item {position: relative;z-index: 1;}#sk-container-id-1 div.sk-parallel {display: flex;align-items: stretch;justify-content: center;background-color: white;position: relative;}#sk-container-id-1 div.sk-item::before, #sk-container-id-1 div.sk-parallel-item::before {content: \"\";position: absolute;border-left: 1px solid gray;box-sizing: border-box;top: 0;bottom: 0;left: 50%;z-index: -1;}#sk-container-id-1 div.sk-parallel-item {display: flex;flex-direction: column;z-index: 1;position: relative;background-color: white;}#sk-container-id-1 div.sk-parallel-item:first-child::after {align-self: flex-end;width: 50%;}#sk-container-id-1 div.sk-parallel-item:last-child::after {align-self: flex-start;width: 50%;}#sk-container-id-1 div.sk-parallel-item:only-child::after {width: 0;}#sk-container-id-1 div.sk-dashed-wrapped {border: 1px dashed gray;margin: 0 0.4em 0.5em 0.4em;box-sizing: border-box;padding-bottom: 0.4em;background-color: white;}#sk-container-id-1 div.sk-label label {font-family: monospace;font-weight: bold;display: inline-block;line-height: 1.2em;}#sk-container-id-1 div.sk-label-container {text-align: center;}#sk-container-id-1 div.sk-container {/* jupyter's `normalize.less` sets `[hidden] { display: none; }` but bootstrap.min.css set `[hidden] { display: none !important; }` so we also need the `!important` here to be able to override the default hidden behavior on the sphinx rendered scikit-learn.org. See: https://github.com/scikit-learn/scikit-learn/issues/21755 */display: inline-block !important;position: relative;}#sk-container-id-1 div.sk-text-repr-fallback {display: none;}</style><div id=\"sk-container-id-1\" class=\"sk-top-container\"><div class=\"sk-text-repr-fallback\"><pre>GridSearchCV(estimator=SVC(),\n",
       "             param_grid=[{&#x27;C&#x27;: [0.0001, 0.001, 0.01, 0.1, 1, 10, 100, 1000],\n",
       "                          &#x27;gamma&#x27;: [1e-12, 1e-10, 1e-08, 1e-06, 0.0001, 0.01, 1,\n",
       "                                    10],\n",
       "                          &#x27;kernel&#x27;: [&#x27;rbf&#x27;]}],\n",
       "             verbose=3)</pre><b>In a Jupyter environment, please rerun this cell to show the HTML representation or trust the notebook. <br />On GitHub, the HTML representation is unable to render, please try loading this page with nbviewer.org.</b></div><div class=\"sk-container\" hidden><div class=\"sk-item sk-dashed-wrapped\"><div class=\"sk-label-container\"><div class=\"sk-label sk-toggleable\"><input class=\"sk-toggleable__control sk-hidden--visually\" id=\"sk-estimator-id-1\" type=\"checkbox\" ><label for=\"sk-estimator-id-1\" class=\"sk-toggleable__label sk-toggleable__label-arrow\">GridSearchCV</label><div class=\"sk-toggleable__content\"><pre>GridSearchCV(estimator=SVC(),\n",
       "             param_grid=[{&#x27;C&#x27;: [0.0001, 0.001, 0.01, 0.1, 1, 10, 100, 1000],\n",
       "                          &#x27;gamma&#x27;: [1e-12, 1e-10, 1e-08, 1e-06, 0.0001, 0.01, 1,\n",
       "                                    10],\n",
       "                          &#x27;kernel&#x27;: [&#x27;rbf&#x27;]}],\n",
       "             verbose=3)</pre></div></div></div><div class=\"sk-parallel\"><div class=\"sk-parallel-item\"><div class=\"sk-item\"><div class=\"sk-label-container\"><div class=\"sk-label sk-toggleable\"><input class=\"sk-toggleable__control sk-hidden--visually\" id=\"sk-estimator-id-2\" type=\"checkbox\" ><label for=\"sk-estimator-id-2\" class=\"sk-toggleable__label sk-toggleable__label-arrow\">estimator: SVC</label><div class=\"sk-toggleable__content\"><pre>SVC()</pre></div></div></div><div class=\"sk-serial\"><div class=\"sk-item\"><div class=\"sk-estimator sk-toggleable\"><input class=\"sk-toggleable__control sk-hidden--visually\" id=\"sk-estimator-id-3\" type=\"checkbox\" ><label for=\"sk-estimator-id-3\" class=\"sk-toggleable__label sk-toggleable__label-arrow\">SVC</label><div class=\"sk-toggleable__content\"><pre>SVC()</pre></div></div></div></div></div></div></div></div></div></div>"
      ],
      "text/plain": [
       "GridSearchCV(estimator=SVC(),\n",
       "             param_grid=[{'C': [0.0001, 0.001, 0.01, 0.1, 1, 10, 100, 1000],\n",
       "                          'gamma': [1e-12, 1e-10, 1e-08, 1e-06, 0.0001, 0.01, 1,\n",
       "                                    10],\n",
       "                          'kernel': ['rbf']}],\n",
       "             verbose=3)"
      ]
     },
     "execution_count": 35,
     "metadata": {},
     "output_type": "execute_result"
    }
   ],
   "source": [
    "from sklearn.model_selection import GridSearchCV\n",
    "\n",
    "param_grid = [\n",
    "  \n",
    "  {'C': [0.0001, 0.001 , 0.01 , 0.1 , 1 , 10 , 100, 1000], 'gamma': [1e-12, 1e-10, 1e-8, 1e-6, 1e-4, 1e-2 ,1,10], 'kernel': ['rbf']},\n",
    " ]\n",
    "grid = GridSearchCV(svm.SVC(), param_grid, refit = True, verbose = 3)\n",
    "grid.fit(X_train_reduced, y_train.ravel())"
   ]
  },
  {
   "cell_type": "code",
   "execution_count": 36,
   "id": "e5ecdf5a",
   "metadata": {},
   "outputs": [
    {
     "name": "stdout",
     "output_type": "stream",
     "text": [
      "{'C': 100, 'gamma': 1e-10, 'kernel': 'rbf'}\n",
      "MSE: 0.7285714285714285\n",
      "acc: 0.8571428571428571\n"
     ]
    }
   ],
   "source": [
    "print(grid.best_params_)\n",
    "clf = grid.best_estimator_\n",
    "y_pred = clf.predict(X_test_reduced)\n",
    "mse=mean_squared_error(y_pred,y_test)\n",
    "\n",
    "Acc = accuracy_score(y_pred, y_test)\n",
    "print('MSE:', mse)\n",
    "print('acc:', Acc)"
   ]
  }
 ],
 "metadata": {
  "kernelspec": {
   "display_name": "Python 3 (ipykernel)",
   "language": "python",
   "name": "python3"
  },
  "language_info": {
   "codemirror_mode": {
    "name": "ipython",
    "version": 3
   },
   "file_extension": ".py",
   "mimetype": "text/x-python",
   "name": "python",
   "nbconvert_exporter": "python",
   "pygments_lexer": "ipython3",
   "version": "3.10.10"
  }
 },
 "nbformat": 4,
 "nbformat_minor": 5
}
